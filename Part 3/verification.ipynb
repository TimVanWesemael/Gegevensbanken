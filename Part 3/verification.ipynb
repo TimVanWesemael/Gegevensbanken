{
 "cells": [
  {
   "cell_type": "markdown",
   "metadata": {},
   "source": [
    "# Verification"
   ]
  },
  {
   "cell_type": "markdown",
   "metadata": {},
   "source": [
    "Voor de eerste 3 queries kan je je oplossing al testen via deze verification notebook! \n",
    "\n",
    "- Eerst wordt je script automatisch gerund met verschillende parameters\n",
    "    - Deze worden ingeladen van `all_q_param.json` in de `solution` folder.\n",
    "- De (eventuele) resultaten worden opgeslagen in csv files (in de `out` folder)\n",
    "- Die csv files worden vergeleken met de csv files van de oplossing (te vinden in de `solution` folder).\n",
    "- Elke query krijgt een score toegekend. Cf. https://en.wikipedia.org/wiki/F1_score.  \n",
    "- Een kort rapport wordt weergegeven die je pointers kan geven over wat er mis is met je query. \n",
    "    - TP: True Positives\n",
    "    - TN: True Negatives\n",
    "    - FP: False Positives"
   ]
  },
  {
   "cell_type": "markdown",
   "metadata": {},
   "source": [
    "## Preliminaries"
   ]
  },
  {
   "cell_type": "code",
   "execution_count": 8,
   "metadata": {},
   "outputs": [],
   "source": [
    "# De benodigde packages\n",
    "import getpass         # Package om een paswoordveldje te genereren.\n",
    "import mysql.connector # MySQL package\n",
    "import os\n",
    "import sys\n",
    "import pandas as pd"
   ]
  },
  {
   "cell_type": "code",
   "execution_count": 9,
   "metadata": {},
   "outputs": [],
   "source": [
    "# Importeren van onze custom tools\n",
    "sys.path.append(os.path.join(os.getcwd(), 'src')) # Add src folder to our PATH variable\n",
    "from execution import *\n",
    "from evaluation import *"
   ]
  },
  {
   "cell_type": "code",
   "execution_count": 10,
   "metadata": {
    "code_folding": [
     0
    ]
   },
   "outputs": [],
   "source": [
    "def verbind_met_GB(username, hostname, gegevensbanknaam):\n",
    "    \"\"\"\n",
    "    Maak verbinding met een externe gegevensbank\n",
    "    \n",
    "    :param  username:          username van de gebruiker, string\n",
    "    :param  hostname:          naam van de host, string.\n",
    "                               Dit is in het geval van een lokale server gewoon 'localhost'\n",
    "    :param  gegevensbanknaam:  naam van de gegevensbank, string.\n",
    "    :return connection:        connection object, dit is wat teruggeven wordt \n",
    "                               door connect() methods van packages die voldoen aan de DB-API\n",
    "    \"\"\"\n",
    "    \n",
    "    password = getpass.getpass() # Genereer vakje voor wachtwoord in te geven\n",
    "    \n",
    "    connection = mysql.connector.connect(host=hostname,\n",
    "                                         user=username,\n",
    "                                         passwd=password,\n",
    "                                         db=gegevensbanknaam)\n",
    "    return connection"
   ]
  },
  {
   "cell_type": "markdown",
   "metadata": {},
   "source": [
    "## Execution"
   ]
  },
  {
   "cell_type": "markdown",
   "metadata": {},
   "source": [
    "Eerst dien je terug verbinding te maken met de gegevensbank."
   ]
  },
  {
   "cell_type": "code",
   "execution_count": 11,
   "metadata": {},
   "outputs": [
    {
     "name": "stdout",
     "output_type": "stream",
     "text": [
      "········\n"
     ]
    }
   ],
   "source": [
    "username = 'root'      # Vervang dit als je via een andere user queries stuurt\n",
    "hostname = 'localhost' # Als je een gegevensbank lokaal hebt opgezet, is dit localhost.\n",
    "db = 'lahman2016'      # Naam van de gegevensbank op je XAMPP Mysql server\n",
    "\n",
    "# We verbinden met de gegevensbank\n",
    "c = verbind_met_GB(username, hostname, db)"
   ]
  },
  {
   "cell_type": "markdown",
   "metadata": {},
   "source": [
    "Dan dien je de filename van je ingevuld script in te vullen."
   ]
  },
  {
   "cell_type": "code",
   "execution_count": 12,
   "metadata": {},
   "outputs": [],
   "source": [
    "# filename = os.path.join(os.getcwd(), 'scripts', 'example.py') # Dummy example\n",
    "\n",
    "filename = 'wo_1_groep_01.py' # Vul filename van je ingevuld script hier in"
   ]
  },
  {
   "cell_type": "markdown",
   "metadata": {},
   "source": [
    "Nu runnen we het script. \n",
    "\n",
    "De parameters en de kolomnamen worden automatisch ingelezen uit de json files in de `solution` folder."
   ]
  },
  {
   "cell_type": "code",
   "execution_count": 13,
   "metadata": {},
   "outputs": [
    {
     "name": "stdout",
     "output_type": "stream",
     "text": [
      "Loading method: query_01 from module wo_1_groep_01\n",
      "Loading method: query_02 from module wo_1_groep_01\n",
      "Loading method: query_03 from module wo_1_groep_01\n",
      "Loading method: query_04 from module wo_1_groep_01\n",
      "An exception occurred in method gen_all_q_method:\n",
      "module 'wo_1_groep_01' has no attribute 'query_04'\n",
      "\n",
      "Loading method: query_05 from module wo_1_groep_01\n",
      "An exception occurred in method gen_all_q_method:\n",
      "module 'wo_1_groep_01' has no attribute 'query_05'\n",
      "\n",
      "Loading method: query_06 from module wo_1_groep_01\n",
      "An exception occurred in method gen_all_q_method:\n",
      "module 'wo_1_groep_01' has no attribute 'query_06'\n",
      "\n",
      "Loading method: query_07 from module wo_1_groep_01\n",
      "An exception occurred in method gen_all_q_method:\n",
      "module 'wo_1_groep_01' has no attribute 'query_07'\n",
      "\n",
      "Loading method: query_08 from module wo_1_groep_01\n",
      "An exception occurred in method gen_all_q_method:\n",
      "module 'wo_1_groep_01' has no attribute 'query_08'\n",
      "\n",
      "Loading method: query_09 from module wo_1_groep_01\n",
      "An exception occurred in method gen_all_q_method:\n",
      "module 'wo_1_groep_01' has no attribute 'query_09'\n",
      "\n",
      "Loading method: query_10 from module wo_1_groep_01\n",
      "An exception occurred in method gen_all_q_method:\n",
      "module 'wo_1_groep_01' has no attribute 'query_10'\n",
      "\n",
      "An exception occurred in method run_all_queries:\n",
      "'query_04'\n",
      "\n",
      "An exception occurred in method run_all_queries:\n",
      "'query_05'\n",
      "\n",
      "An exception occurred in method run_all_queries:\n",
      "'query_06'\n",
      "\n",
      "An exception occurred in method run_all_queries:\n",
      "'query_07'\n",
      "\n",
      "An exception occurred in method run_all_queries:\n",
      "'query_08'\n",
      "\n",
      "An exception occurred in method run_all_queries:\n",
      "'query_09'\n",
      "\n",
      "An exception occurred in method run_all_queries:\n",
      "'query_10'\n",
      "\n"
     ]
    }
   ],
   "source": [
    "run_external_script(filename, c) # Run script with provided parameters and column names"
   ]
  },
  {
   "cell_type": "markdown",
   "metadata": {},
   "source": [
    "## 3. Evaluation\n",
    "\n",
    "Het externe script is nu uitgevoerd met de door ons vastgelegde parameters. Op die manier zijn er csv files gemaakt in de `out` directory.\n",
    "\n",
    "Die csv files worden nu vergeleken met door ons aangemaakte csv files van de correcte oplossingen. Op die manier wordt de score berekend."
   ]
  },
  {
   "cell_type": "markdown",
   "metadata": {},
   "source": [
    "1. Load all solution csvs\n",
    "2. Collect them in a dict\n",
    "3. Verify that you have a df for each parameter setting"
   ]
  },
  {
   "cell_type": "code",
   "execution_count": 14,
   "metadata": {},
   "outputs": [
    {
     "ename": "TypeError",
     "evalue": "'<' not supported between instances of 'NoneType' and 'NoneType'",
     "output_type": "error",
     "traceback": [
      "\u001b[0;31m---------------------------------------------------------------------------\u001b[0m",
      "\u001b[0;31mTypeError\u001b[0m                                 Traceback (most recent call last)",
      "\u001b[0;32m<ipython-input-14-6ffd9352668a>\u001b[0m in \u001b[0;36m<module>\u001b[0;34m()\u001b[0m\n\u001b[0;32m----> 1\u001b[0;31m \u001b[0mprint\u001b[0m\u001b[0;34m(\u001b[0m\u001b[0mevaluate_script\u001b[0m\u001b[0;34m(\u001b[0m\u001b[0mfilename\u001b[0m\u001b[0;34m)\u001b[0m\u001b[0;34m)\u001b[0m\u001b[0;34m\u001b[0m\u001b[0m\n\u001b[0m",
      "\u001b[0;32m~/Documents/School/Gegevensbanken/Project/origin/src/evaluation.py\u001b[0m in \u001b[0;36mevaluate_script\u001b[0;34m(script_fname, all_q_params)\u001b[0m\n\u001b[1;32m     41\u001b[0m             \u001b[0mdf_subm\u001b[0m \u001b[0;34m=\u001b[0m \u001b[0mout_dfs\u001b[0m\u001b[0;34m[\u001b[0m\u001b[0mk\u001b[0m\u001b[0;34m]\u001b[0m\u001b[0;34m\u001b[0m\u001b[0m\n\u001b[1;32m     42\u001b[0m \u001b[0;34m\u001b[0m\u001b[0m\n\u001b[0;32m---> 43\u001b[0;31m             \u001b[0mscores\u001b[0m\u001b[0;34m[\u001b[0m\u001b[0mk\u001b[0m\u001b[0;34m]\u001b[0m\u001b[0;34m,\u001b[0m \u001b[0mreport\u001b[0m\u001b[0;34m[\u001b[0m\u001b[0mk\u001b[0m\u001b[0;34m]\u001b[0m \u001b[0;34m=\u001b[0m \u001b[0mevaluate_df\u001b[0m\u001b[0;34m(\u001b[0m\u001b[0mdf_true\u001b[0m\u001b[0;34m,\u001b[0m \u001b[0mdf_subm\u001b[0m\u001b[0;34m)\u001b[0m\u001b[0;34m\u001b[0m\u001b[0m\n\u001b[0m\u001b[1;32m     44\u001b[0m \u001b[0;34m\u001b[0m\u001b[0m\n\u001b[1;32m     45\u001b[0m             \u001b[0mfull_report\u001b[0m \u001b[0;34m+=\u001b[0m \u001b[0mgen_q_report\u001b[0m\u001b[0;34m(\u001b[0m\u001b[0mq_idx\u001b[0m\u001b[0;34m,\u001b[0m \u001b[0mq_param\u001b[0m\u001b[0;34m,\u001b[0m \u001b[0mscore\u001b[0m\u001b[0;34m=\u001b[0m\u001b[0mscores\u001b[0m\u001b[0;34m[\u001b[0m\u001b[0mk\u001b[0m\u001b[0;34m]\u001b[0m\u001b[0;34m,\u001b[0m \u001b[0mreport\u001b[0m\u001b[0;34m=\u001b[0m\u001b[0mreport\u001b[0m\u001b[0;34m[\u001b[0m\u001b[0mk\u001b[0m\u001b[0;34m]\u001b[0m\u001b[0;34m)\u001b[0m\u001b[0;34m\u001b[0m\u001b[0m\n",
      "\u001b[0;32m~/Documents/School/Gegevensbanken/Project/origin/src/evaluation.py\u001b[0m in \u001b[0;36mevaluate_df\u001b[0;34m(df_true, df_subm)\u001b[0m\n\u001b[1;32m    106\u001b[0m     \u001b[0mscore\u001b[0m\u001b[0;34m,\u001b[0m \u001b[0mreport\u001b[0m \u001b[0;34m=\u001b[0m \u001b[0mf1_dfs\u001b[0m\u001b[0;34m(\u001b[0m\u001b[0mdf_true\u001b[0m\u001b[0;34m,\u001b[0m \u001b[0mdf_subm\u001b[0m\u001b[0;34m)\u001b[0m\u001b[0;34m\u001b[0m\u001b[0m\n\u001b[1;32m    107\u001b[0m \u001b[0;34m\u001b[0m\u001b[0m\n\u001b[0;32m--> 108\u001b[0;31m     \u001b[0;32mif\u001b[0m \u001b[0mscore\u001b[0m \u001b[0;34m==\u001b[0m \u001b[0;36m1\u001b[0m \u001b[0;34m&\u001b[0m \u001b[0mis_sorted\u001b[0m\u001b[0;34m(\u001b[0m\u001b[0mdf_true\u001b[0m\u001b[0;34m,\u001b[0m \u001b[0mdf_subm\u001b[0m\u001b[0;34m)\u001b[0m\u001b[0;34m:\u001b[0m\u001b[0;34m\u001b[0m\u001b[0m\n\u001b[0m\u001b[1;32m    109\u001b[0m         \u001b[0mreport\u001b[0m \u001b[0;34m=\u001b[0m \u001b[0;34m{\u001b[0m\u001b[0;34m'Perfect match'\u001b[0m\u001b[0;34m:\u001b[0m \u001b[0;34m'Congratulations!'\u001b[0m\u001b[0;34m}\u001b[0m\u001b[0;34m\u001b[0m\u001b[0m\n\u001b[1;32m    110\u001b[0m     \u001b[0;32melse\u001b[0m\u001b[0;34m:\u001b[0m\u001b[0;34m\u001b[0m\u001b[0m\n",
      "\u001b[0;32m~/Documents/School/Gegevensbanken/Project/origin/src/evaluation.py\u001b[0m in \u001b[0;36mis_sorted\u001b[0;34m(df_true, df_subm)\u001b[0m\n\u001b[1;32m    156\u001b[0m     \u001b[0mfinal_tuple_subm\u001b[0m \u001b[0;34m=\u001b[0m \u001b[0mtuple\u001b[0m\u001b[0;34m(\u001b[0m\u001b[0mdf_subm\u001b[0m\u001b[0;34m.\u001b[0m\u001b[0mvalues\u001b[0m\u001b[0;34m[\u001b[0m\u001b[0;34m-\u001b[0m\u001b[0;36m1\u001b[0m\u001b[0;34m]\u001b[0m\u001b[0;34m)\u001b[0m\u001b[0;34m\u001b[0m\u001b[0m\n\u001b[1;32m    157\u001b[0m \u001b[0;34m\u001b[0m\u001b[0m\n\u001b[0;32m--> 158\u001b[0;31m     \u001b[0mcheck\u001b[0m \u001b[0;34m=\u001b[0m \u001b[0midx_tuple_in_df\u001b[0m\u001b[0;34m(\u001b[0m\u001b[0mfirst_tuple_subm\u001b[0m\u001b[0;34m,\u001b[0m \u001b[0mdf_true\u001b[0m\u001b[0;34m)\u001b[0m \u001b[0;34m<\u001b[0m \u001b[0midx_tuple_in_df\u001b[0m\u001b[0;34m(\u001b[0m\u001b[0mfinal_tuple_subm\u001b[0m\u001b[0;34m,\u001b[0m \u001b[0mdf_true\u001b[0m\u001b[0;34m)\u001b[0m\u001b[0;34m\u001b[0m\u001b[0m\n\u001b[0m\u001b[1;32m    159\u001b[0m     \u001b[0;32mreturn\u001b[0m \u001b[0mcheck\u001b[0m\u001b[0;34m\u001b[0m\u001b[0m\n\u001b[1;32m    160\u001b[0m \u001b[0;34m\u001b[0m\u001b[0m\n",
      "\u001b[0;31mTypeError\u001b[0m: '<' not supported between instances of 'NoneType' and 'NoneType'"
     ]
    }
   ],
   "source": [
    "print(evaluate_script(filename))"
   ]
  },
  {
   "cell_type": "code",
   "execution_count": null,
   "metadata": {},
   "outputs": [],
   "source": []
  },
  {
   "cell_type": "code",
   "execution_count": null,
   "metadata": {},
   "outputs": [],
   "source": []
  }
 ],
 "metadata": {
  "kernelspec": {
   "display_name": "Python 3",
   "language": "python",
   "name": "python3"
  },
  "language_info": {
   "codemirror_mode": {
    "name": "ipython",
    "version": 3
   },
   "file_extension": ".py",
   "mimetype": "text/x-python",
   "name": "python",
   "nbconvert_exporter": "python",
   "pygments_lexer": "ipython3",
   "version": "3.6.4"
  },
  "toc": {
   "nav_menu": {},
   "number_sections": true,
   "sideBar": true,
   "skip_h1_title": true,
   "title_cell": "Table of Contents",
   "title_sidebar": "Contents",
   "toc_cell": false,
   "toc_position": {},
   "toc_section_display": true,
   "toc_window_display": true
  }
 },
 "nbformat": 4,
 "nbformat_minor": 2
}
