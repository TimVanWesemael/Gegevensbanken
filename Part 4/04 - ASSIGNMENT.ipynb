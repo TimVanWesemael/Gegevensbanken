{
 "cells": [
  {
   "cell_type": "markdown",
   "metadata": {},
   "source": [
    "# Werkje gegevensbanken 2018 - DEEL 04\n",
    "\n",
    "## Inleiding\n",
    "\n",
    "Het vierde en laatste deel van het werkje bestaat uit twee componenten: \n",
    "1. Optimalisatie\n",
    "2. Visualisatie\n",
    "\n",
    "Bij dit deel van het werkje laten we jullie veel vrijheid om tot een oplossing te komen. Er bestaat niet zoiets als de unieke correcte oplossing, het is dus de bedoeling dat jullie zelf een strategie uitdokteren en deze achteraf kunnen verdedigen. Leg in deze notebook kort uit welke keuzes je maakt en waarom, dit zal helpen bij de verdediging. Beschouw dit als een soort mini-verslag tussen de code door.\n",
    "\n",
    "### Indienen + Evaluatiemoment\n",
    "\n",
    "** EVALULATIEMOMENT**: DE OEFENZITTING IN DE WEEK VAN 14/05/2017-18/05/2017\n",
    "\n",
    "Het evaluatiemoment van het **volledige** werkje vindt plaats tijdens **de oefenzitting in de week van 14/05/2017-18/05/2017**. Prof. Berendt en dr. Bogaerts komen langs om enkele vragen te stellen over jullie oplossingen. Dit evaluatiemoment omvat ook een demonstratie van jullie resultaat, bijvoorbeeld: aantonen dat jullie optimalisatie van deel 4 van het werkje effectief een verbetering is t.o.v. het originele geval. Teneinde die demonstratie vlot te doen verlopen vragen we jullie om **per groep (minstens) 1 laptop mee te nemen waarop jullie oplossingen (i.e. de ingevulde notebooks) goed functioneren**. Deze laptop beschikt dus ook over XAMPP (inclusief de gegevensbank van dit werkje, uiteraard), gezien de queries in de notebooks ook moeten werken.\n",
    "\n",
    "**INDIENDEADLINE**: ZONDAG 13 MEI om 23.59\n",
    "\n",
    "** HOE INDIENEN**:\n",
    "    1. Upload je ingevulde notebook als werkje_04_groep_XX.ipynb EN werkje_04_groep_XX.html \n",
    "    2. Vervang XX door je groepsnummer.\n",
    "    3. Uploaden doe je op Toledo in je groepsfolder.\n",
    "    \n",
    "Zorg ervoor dat de .html file zeker ook de output van de visualisatie bevat, zodat wij deze gemakkelijk kunnen bekijken en niet moeten reproduceren door jullie .ipynb te runnen! Op die manier kunnen we zeker zijn dat we evalueren wat jullie geproduceerd hebben."
   ]
  },
  {
   "cell_type": "markdown",
   "metadata": {},
   "source": [
    "### Nuttige packages en functies inladen\n",
    "\n",
    "Enkele nuttige packages en functies inladen die verderop van pas zullen komen."
   ]
  },
  {
   "cell_type": "code",
   "execution_count": 12,
   "metadata": {
    "collapsed": true
   },
   "outputs": [],
   "source": [
    "# Benodigde packages\n",
    "import json            # Package om .json files in te laden (bvb kolomnamen zijn zo opgeslagen)\n",
    "import getpass         # Package om een paswoordveldje te genereren.\n",
    "import mysql.connector # MySQL package\n",
    "import numpy as np\n",
    "import pandas as pd    # Populaire package voor data-verwerking\n",
    "import sys\n",
    "import os\n",
    "import time"
   ]
  },
  {
   "cell_type": "code",
   "execution_count": 13,
   "metadata": {},
   "outputs": [
    {
     "data": {
      "text/plain": [
       "sys.version_info(major=3, minor=6, micro=3, releaselevel='final', serial=0)"
      ]
     },
     "execution_count": 13,
     "metadata": {},
     "output_type": "execute_result"
    }
   ],
   "source": [
    "sys.version_info       # Check python versie, wij veronderstellen 3.6"
   ]
  },
  {
   "cell_type": "markdown",
   "metadata": {},
   "source": [
    "### Interageren met een gegevensbank"
   ]
  },
  {
   "cell_type": "code",
   "execution_count": 14,
   "metadata": {
    "collapsed": true
   },
   "outputs": [],
   "source": [
    "def verbind_met_GB(username, hostname, gegevensbanknaam):\n",
    "    \"\"\"\n",
    "    Maak verbinding met een externe gegevensbank\n",
    "    \n",
    "    :param  username:          username van de gebruiker, string\n",
    "    :param  hostname:          naam van de host, string.\n",
    "                               Dit is in het geval van een lokale server gewoon 'localhost'\n",
    "    :param  gegevensbanknaam:  naam van de gegevensbank, string.\n",
    "    :return connection:        connection object, dit is wat teruggeven wordt \n",
    "                               door connect() methods van packages die voldoen aan de DB-API\n",
    "    \"\"\"\n",
    "    \n",
    "    password = getpass.getpass() # Genereer vakje voor wachtwoord in te geven\n",
    "    \n",
    "    connection = mysql.connector.connect(host=hostname,\n",
    "                                         user=username,\n",
    "                                         passwd=password,\n",
    "                                         db=gegevensbanknaam)\n",
    "    return connection\n",
    "\n",
    "\n",
    "def check_perfect_match(df1, df2):\n",
    "    \"\"\"\n",
    "    Functie om te checken of 2 DataFrames gelijk zijn.\n",
    "    \"\"\"\n",
    "    check = df1.equals(df2)\n",
    "    return check\n",
    "\n",
    "\n",
    "def run_query(connection, query, must_return = True):\n",
    "    \"\"\"\n",
    "    Voer een query uit op een reeds gemaakte connectie, geeft het resultaat van de query terug\n",
    "    \"\"\"\n",
    "    \n",
    "    # Making a cursor and executing the query\n",
    "    cursor = connection.cursor()\n",
    "    cursor.execute(query)\n",
    "    \n",
    "    # Collecting the result and casting it in a pd.DataFrame\n",
    "    \n",
    "    if must_return:\n",
    "        res = cursor.fetchall()\n",
    "        return res\n",
    "    else:\n",
    "        return\n",
    "\n",
    "\n",
    "def res_to_df(query_result, column_names):\n",
    "    \"\"\"\n",
    "    Giet het resultaat van een uitgevoerde query in een 'pandas dataframe'\n",
    "    met vooraf gespecifieerde kolomnamen.\n",
    "    \n",
    "    Let op: Het resultaat van de query moet dus exact evenveel kolommen bevatten\n",
    "    als kolomnamen die je meegeeft. Als dit niet het geval is, is dit een indicatie\n",
    "    dat je oplossing fout is. (Gezien wij de kolomnamen van de oplossing al cadeau doen)\n",
    "    \n",
    "    \"\"\"\n",
    "    df = pd.DataFrame(query_result, columns=column_names)\n",
    "    return df"
   ]
  },
  {
   "cell_type": "markdown",
   "metadata": {},
   "source": [
    "## Optimalisatie"
   ]
  },
  {
   "cell_type": "markdown",
   "metadata": {},
   "source": [
    "### Opgave\n",
    "\n",
    "Het doel van het eerste deel van deze taak is het optimaliseren van onderstaande query.\n",
    "\n",
    "Een goede oplossing van deze eerste opgave voldoet aan volgende criteria:\n",
    "* Verzin een optimalisatie van deze query\n",
    "* De runtime van de optimalisatie is significant minder dan die van de originele oplossing (een paar procent is te weinig)\n",
    "* Je bent in staat om uit te leggen WAT je doet en WAAROM je dat gedaan hebt en WAAROM het werkt..\n",
    "    * Het EXPLAIN statement in MySQL is een goede gids om je hierbij te helpen. \n",
    "    * Je schrijft in deze notebook al kort de redeneringen op die achter jullie optimalisatie zitten (dit zal nuttig zijn bij de mondelinge verdediging).\n",
    "\n",
    "Hieronder vinden jullie de query die te optimaliseren is. Wijzig deze dus niet."
   ]
  },
  {
   "cell_type": "markdown",
   "metadata": {},
   "source": [
    "**Beschrijving**"
   ]
  },
  {
   "cell_type": "markdown",
   "metadata": {},
   "source": [
    "Het resultaat van deze functie is een Pandas DataFrame dat voor een gegeven *jaar_1* een aantal statistieken van alle staten bevat waarbij de gemiddelde lengte van alle spelers geboren in die staat en opgenomen in de hall of fame na *jaar_2* groter is dan *lengte*.\n",
    "\n",
    "Voor die staten moet de tabel de volgende statistieken bevatten: het gemiddelde gewicht, de gemiddelde lengte, het gemiddeld aantal batting homeruns, en het gemiddeld aantal pitching saves van alle spelers (geboren in die staat) die in de hall of fame zijn opgenomen na *jaar_2*.\n",
    "\n",
    "Sorteer oplopend alfabetisch op staat.\n",
    "\n",
    "Nb. Lengte is uitgedrukt in inches."
   ]
  },
  {
   "cell_type": "code",
   "execution_count": 15,
   "metadata": {
    "collapsed": true
   },
   "outputs": [],
   "source": [
    "column_names = ['state', 'avg_weight', 'avg_height', 'avg_homeruns', 'avg_saves']"
   ]
  },
  {
   "cell_type": "code",
   "execution_count": 16,
   "metadata": {
    "collapsed": true
   },
   "outputs": [],
   "source": [
    "# Dit is de originele query die geoptimaliseerd dient te worden. Niet wijzigen!\n",
    "def query_to_optimize(connection, column_names, jaar_1=2000, jaar_2=1990, lengte=75):\n",
    "    # Actual query\n",
    "    query=\"\"\"\n",
    "    SELECT m.birthState, AVG(m.weight), AVG(m.height), AVG(bat.HR), AVG(pit.SV)\n",
    "    FROM Master AS m,\n",
    "        Pitching AS pit,\n",
    "        Batting AS bat,\n",
    "        HallOfFame AS hof\n",
    "    WHERE pit.yearID = {}\n",
    "        AND bat.yearID = {}\n",
    "        AND pit.playerID = m.playerID\n",
    "        AND bat.playerID = m.playerID\n",
    "        AND m.playerID = hof.playerID\n",
    "        AND hof.yearID > {}\n",
    "    GROUP BY m.birthState\n",
    "    HAVING AVG(m.height) > {}\n",
    "    ORDER BY m.birthState ASC;\n",
    "    \"\"\".format(jaar_1, jaar_1, jaar_2, lengte)\n",
    "    \n",
    "    # Stap 2 & 3\n",
    "    res = run_query(connection, query)         # Query uitvoeren\n",
    "    df = res_to_df(res, column_names)          # Query in DataFrame brengen\n",
    "    \n",
    "    return df"
   ]
  },
  {
   "cell_type": "markdown",
   "metadata": {},
   "source": [
    "Eerst maken we verbinding met de gegevensbank, zoals jullie al deden in het vorige deel van het werkje."
   ]
  },
  {
   "cell_type": "code",
   "execution_count": 17,
   "metadata": {},
   "outputs": [
    {
     "name": "stdout",
     "output_type": "stream",
     "text": [
      "········\n"
     ]
    }
   ],
   "source": [
    "username = 'root'      # Vervang dit als je via een andere user queries stuurt\n",
    "hostname = 'localhost' # Als je een databank lokaal draait, is dit localhost.\n",
    "db = 'lahman2016'      # Naam van de gegevensbank op je XAMPP Mysql server\n",
    "\n",
    "# We verbinden met de gegevensbank\n",
    "c = verbind_met_GB(username, hostname, db)"
   ]
  },
  {
   "cell_type": "markdown",
   "metadata": {},
   "source": [
    "In onderstaande cel bekomen we de runtime van de originele query door deze vijf keer te runnen, om tot een betere schatting te komen. Deze conventie van runtimes meten dient behouden te worden."
   ]
  },
  {
   "cell_type": "code",
   "execution_count": 18,
   "metadata": {},
   "outputs": [
    {
     "name": "stdout",
     "output_type": "stream",
     "text": [
      "De originele query duurt:  2.05  seconden\n"
     ]
    }
   ],
   "source": [
    "timings=[]\n",
    "\n",
    "# We voeren deze query 5 keer uit om een betere schatting te krijgen van de effectieve runtime.\n",
    "for i in range(5):\n",
    "    t1 = time.time() # Start time\n",
    "    df_orig = query_to_optimize(c, column_names, jaar_1=2000, jaar_2=1990, lengte=75)\n",
    "    t2 = time.time() # Stop time\n",
    "    timings.append(t2-t1) \n",
    "    \n",
    "orig_runtime=np.mean(timings) # De uiteindelijke runtime is een gemiddelde van 5 runs.\n",
    "\n",
    "print('De originele query duurt: ', \"{0:.2f}\".format(orig_runtime),' seconden')"
   ]
  },
  {
   "cell_type": "markdown",
   "metadata": {},
   "source": [
    "### Optimalisatie\n",
    "\n",
    "In deze sectie is het de bedoeling dat je je optimalisatie realiseert. Wat hier al ingevuld staat qua code is enkel om je op weg te helpen.\n",
    "\n",
    "Je mag zoveel codecellen toevoegen als je nodig acht om je verhaal te vertellen. Leg uit wat je doet, en waarom je dat doet. Denk hierbij zeker aan het EXPLAIN statement zoals gezien in de les. Gebruik EXPLAIN om te identificeren hoe MySQL de query omzet en kijk zo welke effecten je verbeteringen hebben. Leg de resultaten van EXPLAIN kort uit.\n",
    "\n",
    "Beschouw de uitleg rond je oplossing als een soort mini-verslag dat je code en query uitlegt."
   ]
  },
  {
   "cell_type": "markdown",
   "metadata": {},
   "source": [
    "#### EXPLAIN\n",
    "\n",
    "Wanneer de gegeven, bovenstaande query, voorafgegaan door het commando EXPLAIN, uitgevoerd wordt, geeft MySQL de volgende tabel als output. Onder dit resultaat volgt een bespreking over de waarden die er in zijn terug te vinden.\n",
    "\n",
    "|id | select_type | table | type | possible_key | key | key_len | ref | rows | extra |\n",
    "|:---|:---          |:---    |:---   |:---           |:---  |:---      |:---  |:---   |:---    |  \n",
    "|1\t| SIMPLE | hof | ALL | NULL| NULL | NULL | NULL | 4136 | Using where; Using temporary; Using filesort |\n",
    "|1\t| SIMPLE | m | ALL | NULL | NULL | NULL | NULL | 18110 | Using where; Using join buffer (flat, BNL join) |\t\n",
    "|1\t| SIMPLE | pit | ALL | NULL | NULL | NULL | NULL | 44757 | Using where; Using join buffer (incremental, BNL j...\n",
    "|1\t| SIMPLE | bat | ALL | NULL | NULL | NULL | NULL |102225 | Using where; Using join buffer (incremental, BNL j...\n",
    "\n",
    "**id** Is voor elke rij 1. Dit is logisch, aangezien id verwijst naar het SELECT statement en er maar één is.\n",
    "\n",
    "**select_type** Er wordt geen gebruik gemaakt van het commando UNION of subqueries. Daarom is voor elke rij het selecteer type SIMPLE.\n",
    "\n",
    "**table** Er wordt telkens een complete table scan (ALL) uitgevoerd. Elke combinatie van rijen wordt gechekt.\n",
    "\n",
    "**possible_keys** Er zijn geen mogelijke keys gevonden, dus ook **key** en **key_len** hebben als waarde NULL.\n",
    "\n",
    "**ref** Er kan met niets vergeleken worden, dus ook hier zijn enkel NULLs te vinden.\n",
    "\n",
    "**rows** Alle tuples in alle tabellen worden gelezen, dus in het totaal zijn er 4136\\*18110\\*44757\\*102225 (ca. 3\\*10^17) vergelijkingen gemaakt. \n",
    "\n",
    "**extra** In elke rij wordt er gezocht in tuples (*using_where*). *hof* wordt ook gesorteerd. Dankzij join buffer (block nested loop) moeten tupels van *m*, *pit* en *bat* niet noodzakelijk opnieuw gelezen worden. Een hogere tupel matcht met een lager tupel uit de buffer indien mogelijk.  "
   ]
  },
  {
   "cell_type": "code",
   "execution_count": 19,
   "metadata": {
    "collapsed": true
   },
   "outputs": [],
   "source": [
    "# Maak hier je eerste optimalisatie\n",
    "def optim_1(connection, column_names, jaar_1=2000, jaar_2=1990, lengte=75):\n",
    "    query=\"\"\"\n",
    "    SELECT join2.birthState, AVG(join2.weight), AVG(join2.height), AVG(join2.HR), AVG(pit.SV)\n",
    "    FROM\n",
    "\t(SELECT Pitching.playerID, Pitching.SV\n",
    "     FROM Pitching\n",
    "     WHERE Pitching.yearID = {}) as pit\n",
    "     ,\n",
    "    (SELECT bat.HR, join1.birthState, join1.height, join1.weight, join1.playerID\n",
    "     FROM (SELECT Batting.playerID, Batting.HR\n",
    "           FROM Batting\n",
    "           WHERE Batting.yearID = {}) as bat\n",
    "     \t   ,\n",
    "     \t   (SELECT m.playerID, m.weight, m.height, m.birthState\n",
    "            FROM Master as m\n",
    "            ,\n",
    "            (SELECT HallOfFame.playerID\n",
    "             FROM HallOfFame\n",
    "             where HallOfFame.yearID > {}) as hof\n",
    "            WHERE m.playerID = hof.playerID) as join1\n",
    "     WHERE bat.playerID = join1.playerID\n",
    "    ) as join2\n",
    "WHERE pit.playerID = join2.playerID\n",
    "GROUP BY join2.birthState\n",
    "HAVING AVG(join2.height) > {}\n",
    "ORDER BY join2.birthState ASC\n",
    "    \"\"\".format(jaar_1, jaar_1, jaar_2, lengte)\n",
    "    \n",
    "    # Stap 2 & 3\n",
    "    res = run_query(connection, query)         # Query uitvoeren\n",
    "    df = res_to_df(res, column_names)          # Query in DataFrame brengen\n",
    "    \n",
    "    return df"
   ]
  },
  {
   "cell_type": "markdown",
   "metadata": {},
   "source": [
    "### Controle\n",
    "\n",
    "De onderstaande codecel vergelijkt de runtime van de optimalisatie met die van de originele query, door een gemiddelde te nemen over 5 runs. Ook wordt er nagegaan dat de resultaten zeker volledig gelijk zijn. Wijzig deze controlewijze niet."
   ]
  },
  {
   "cell_type": "code",
   "execution_count": 20,
   "metadata": {
    "scrolled": true
   },
   "outputs": [
    {
     "name": "stdout",
     "output_type": "stream",
     "text": [
      "De optimalisatie duurt:  2.10  seconden\n",
      "De originele versie duurde:  2.05  seconden\n",
      "De netto tijdwinst is dus:  -0.05  seconden, oftewel -2.40 %\n",
      "Is het resultaat equivalent?  True\n"
     ]
    }
   ],
   "source": [
    "# Test hier je eerste optimalisatie\n",
    "\n",
    "timings_optim_1 = []\n",
    "for i in range(5):\n",
    "    t1 = time.time() # Start time\n",
    "    df_optim_1 = optim_1(c, column_names, jaar_1=2000, jaar_2=1990, lengte=75)\n",
    "    t2 = time.time() # Stop time\n",
    "    timings_optim_1.append(t2-t1) \n",
    "    \n",
    "optim_1_runtime = np.mean(timings_optim_1) # Runtime optimalisatie 1\n",
    "\n",
    "# Vergelijken met originele query\n",
    "diff = orig_runtime-optim_1_runtime # Winst t.o.v. origineel\n",
    "rel_diff = diff/orig_runtime # Relatieve winst\n",
    "check = check_perfect_match(df_orig,df_optim_1) # Nagaan of de resultaten exact gelijk zijn.\n",
    "\n",
    "# Belangrijkste resultaten printen.\n",
    "print('De optimalisatie duurt: ', \"{0:.2f}\".format(optim_1_runtime),' seconden')\n",
    "print('De originele versie duurde: ', \"{0:.2f}\".format(orig_runtime),' seconden')\n",
    "print('De netto tijdwinst is dus: ',\"{0:.2f}\".format(diff),' seconden, oftewel', \"{0:.2f}\".format(100*rel_diff), '%' )\n",
    "print('Is het resultaat equivalent? ', check)"
   ]
  },
  {
   "cell_type": "markdown",
   "metadata": {},
   "source": [
    "### Bespreking\n",
    "\n",
    "De doorgevoerde optimalisatie is gebaseerd op een queryboomoptimalisering. Dit is iets dat MySQL al heel goed uit zich zelf doet. Daarom is er niet veel vooruitgang geboekt qua runtime. MySQL ziet niet veel onderscheid aan onze eerste optimalisatie en de originele query. Dit is ook te zien aan het resultaat van EXPLAIN, dat identiek is.\n",
    "\n",
    "|id | select_type | table | type | possible_key | key | key_len | ref | rows | extra |\n",
    "|:---|:---          |:---    |:---   |:---           |:---  |:---      |:---  |:---   |:---    |  \n",
    "|1\t| SIMPLE | hof | ALL | NULL| NULL | NULL | NULL | 4136 | Using where; Using temporary; Using filesort |\n",
    "|1\t| SIMPLE | m | ALL | NULL | NULL | NULL | NULL | 18110 | Using where; Using join buffer (flat, BNL join) |\t\n",
    "|1\t| SIMPLE | pit | ALL | NULL | NULL | NULL | NULL | 44757 | Using where; Using join buffer (incremental, BNL j... |\n",
    "|1\t| SIMPLE | bat | ALL | NULL | NULL | NULL | NULL |102225 | Using where; Using join buffer (incremental, BNL j... |"
   ]
  },
  {
   "cell_type": "markdown",
   "metadata": {},
   "source": [
    "## Optimalisatie 2"
   ]
  },
  {
   "cell_type": "code",
   "execution_count": 31,
   "metadata": {},
   "outputs": [],
   "source": [
    "# Maak hier je tweede optimalisatie\n",
    "def optim_2(connection):\n",
    "    query1=\"\"\"\n",
    "    ALTER TABLE `lahman2016`.`Master` ADD UNIQUE `pID` (`playerID`, `height`, `BirthState`);\n",
    "    \"\"\"\n",
    "    query2=\"\"\"\n",
    "    ALTER TABLE Batting ADD INDEX bpID (`playerID`, `yearID`);\n",
    "    \"\"\"\n",
    "    query3=\"\"\"\n",
    "    ALTER TABLE Pitching ADD INDEX ppID (`playerID`, `yearID`);\n",
    "    \"\"\"\n",
    "    query4=\"\"\"\n",
    "    ALTER TABLE HallOfFame ADD INDEX `hofpID` (playerID, `yearID`); \n",
    "    \"\"\"\n",
    "    query5=\"\"\"\n",
    "    ALTER TABLE Batting ADD INDEX `byID` (`yearID`) USING HASH;\n",
    "    \"\"\"\n",
    "    query6=\"\"\"\n",
    "    ALTER TABLE Pitching ADD INDEX `pyID` (`yearID`) USING HASH;\n",
    "    \"\"\"\n",
    "    query7=\"\"\"\n",
    "    ALTER TABLE HallOfFame ADD INDEX `hofyID` (`yearID` DESC);\n",
    "    \"\"\"\n",
    "    query8=\"\"\"\n",
    "    ALTER TABLE Master ADD INDEX `ht` (`height`);\n",
    "    \"\"\"\n",
    "    query9=\"\"\"\n",
    "    ALTER TABLE Master add INDEX `bs` (`BirthState`);\n",
    "    \"\"\"\n",
    "    \n",
    "    # Stap 2 & 3\n",
    "    run_query(connection, query1, must_return=False)\n",
    "    run_query(connection, query2, must_return=False)\n",
    "    run_query(connection, query3, must_return=False)\n",
    "    run_query(connection, query4, must_return=False)\n",
    "    #run_query(connection, query5, must_return=False)\n",
    "    #run_query(connection, query6, must_return=False)\n",
    "    #run_query(connection, query7, must_return=False)\n",
    "    #run_query(connection, query8, must_return=False)    \n",
    "    #run_query(connection, query9, must_return=False)\n",
    "    \n",
    "    return\n",
    "optim_2(c)"
   ]
  },
  {
   "cell_type": "code",
   "execution_count": 22,
   "metadata": {},
   "outputs": [
    {
     "name": "stdout",
     "output_type": "stream",
     "text": [
      "De optimalisatie duurt:  0.72  seconden\n",
      "De originele versie duurde:  2.05  seconden\n",
      "De netto tijdwinst is dus:  1.33  seconden, oftewel 65.05 %\n",
      "Is het resultaat equivalent?  True\n"
     ]
    }
   ],
   "source": [
    "timings_optim_2 = []\n",
    "for i in range(5):\n",
    "    t1 = time.time() # Start time\n",
    "    df_optim_2 = optim_1(c, column_names, jaar_1=2000, jaar_2=1990, lengte=75)\n",
    "    t2 = time.time() # Stop time\n",
    "    timings_optim_2.append(t2-t1)\n",
    "    \n",
    "optim_2_runtime = np.mean(timings_optim_2) # Runtime optimalisatie 1\n",
    "\n",
    "# Vergelijken met originele query\n",
    "diff = orig_runtime-optim_2_runtime # Winst t.o.v. origineel\n",
    "rel_diff = diff/orig_runtime # Relatieve winst\n",
    "check = check_perfect_match(df_orig,df_optim_2) # Nagaan of de resultaten exact gelijk zijn.\n",
    "\n",
    "# Belangrijkste resultaten printen.\n",
    "print('De optimalisatie duurt: ', \"{0:.2f}\".format(optim_2_runtime),' seconden')\n",
    "print('De originele versie duurde: ', \"{0:.2f}\".format(orig_runtime),' seconden')\n",
    "print('De netto tijdwinst is dus: ',\"{0:.2f}\".format(diff),' seconden, oftewel', \"{0:.2f}\".format(100*rel_diff), '%' )\n",
    "print('Is het resultaat equivalent? ', check)"
   ]
  },
  {
   "cell_type": "markdown",
   "metadata": {},
   "source": [
    "### Bespreking\n",
    "\n",
    "Voor deze optimalistaie is er niks meer aan de query veranderd, maar hebben we de structuur van de databank aangepast. We hebben een index op playerID in Master (uniek), Batting, Pitching en HallOfFame. Dit laat toe om snel referenties tussen de kolommen te vinden. Enkel een index creëen zorgt voor een sneller effect dan een index in combinatie met een foreign key. Ook op yearID in Batting, Pitching en HallOfFame is een index gecreëerd opdat the where statements snel geëvalueerd kunnen worden. Behalve de index yearID van HallOfFame, zijn alle voorgenoemde indices hash-gebaseerd. Dit omdat er enkel op gelijkheden wordt gecontroleerd. Hier is dit soort index uiterst geschikt voor. Ook op de kolom height in Master is er een index gedefinieerd zodat het WHERE commando snel ge-evalueerd kan worden. In dezelfde tabel is er ook een index gecreëerd op BirthState. Dit zodat het sorteren snel kan verlopen. Deze laatste indices zijn net zoals yearID in HallOfFame gebaseerd op een B-tree, omdat deze gecontroleerd worden op ongelijkheden. Door evalutie van het EXPLAIN commando, is het al snel duidelijk dat deze aanpassingen aan de tabel hun vruchten afwerpen. Er wordt niet meer gejoined, maar enkel nog gebruik gemaakt van een index en WHERE commando's. Als resultaat geeft dit dat er nog \n",
    "\n",
    "|id | select_type | table | type | possible_key | key | key_len | ref | rows | extra |\n",
    "|:---|:---          |:---    |:---   |:---           |:---  |:---      |:---  |:---   |:---    | \n",
    "|1|SIMPLE|Pitching|ref|pyID,ppID|pyID|5|const|676|Using where; Using temporary; Using filesort|\t\n",
    "|1|SIMPLE|HallOfFame|ref|hofpID,hofyID|hofpID|768|lahman2016.Pitching.playerID|1|Using where; Using index|\t\n",
    "|1|SIMPLE|m|ref|pID|pID|767|lahman2016.Pitching.playerID|1|   |\n",
    "|1|SIMPLE|Batting|ref|byID,bpID|bpID|768|lahman2016.Pitching.playerID|2|Using where|\t\n",
    "\n"
   ]
  },
  {
   "cell_type": "code",
   "execution_count": 23,
   "metadata": {
    "collapsed": true
   },
   "outputs": [],
   "source": [
    "# Function to reset the database to its state before the optimalisations\n",
    "\n",
    "def reset_db(connection):\n",
    "    query1=\"\"\"\n",
    "    ALTER TABLE lahman2016.Master DROP INDEX pID; \n",
    "    \"\"\"\n",
    "    query2=\"\"\"\n",
    "    ALTER TABLE Pitching DROP INDEX ppID;\n",
    "    \"\"\"\n",
    "    query3=\"\"\"\n",
    "    ALTER TABLE Batting DROP INDEX bpID;\n",
    "    \"\"\"\n",
    "    query4=\"\"\"\n",
    "    ALTER TABLE HallOfFame DROP INDEX hofpID;\n",
    "    \"\"\"\n",
    "    query5=\"\"\"\n",
    "    ALTER TABLE Batting DROP INDEX byID;\n",
    "    \"\"\"\n",
    "    query6=\"\"\"\n",
    "    ALTER TABLE Pitching DROP INDEX pyID;\n",
    "    \"\"\"\n",
    "    query7=\"\"\"\n",
    "    ALTER TABLE HallOfFame DROP INDEX hofyID;\n",
    "    \"\"\"\n",
    "    query8=\"\"\"\n",
    "    ALTER TABLE Master DROP INDEX ht;\n",
    "    \"\"\"\n",
    "    query9=\"\"\"\n",
    "    ALTER TABLE Master DROP INDEX bs;\n",
    "    \"\"\"\n",
    "    \n",
    "    # Stap 2 & 3\n",
    "    run_query(connection, query1, must_return=False)\n",
    "    run_query(connection, query2, must_return=False)\n",
    "    run_query(connection, query3, must_return=False)\n",
    "    run_query(connection, query4, must_return=False)\n",
    "    #run_query(connection, query5, must_return=False)\n",
    "    #run_query(connection, query6, must_return=False)\n",
    "    #run_query(connection, query7, must_return=False)\n",
    "    #run_query(connection, query8, must_return=False)\n",
    "    #run_query(connection, query9, must_return=False)\n",
    "    \n",
    "    return\n",
    "\n",
    "reset_db(c)"
   ]
  },
  {
   "cell_type": "markdown",
   "metadata": {},
   "source": [
    "## Visualisatie\n",
    "\n",
    "### Opgave\n",
    "\n",
    "In het laatste onderdeel van het werkje laten we jullie volledig vrij. Jullie hebben ondertussen geleerd om data uit een gegevensbank op te halen, de volgende stap is om deze data effectief voor iets nuttigs te gebruiken.\n",
    "\n",
    "Een snelle manier om gegevens overzichtelijk weer te geven is visualisatie. Een goede visualisatie kan zeker in een eerste fase van data-analyse echt al inzichten verschaffen. Wij vragen dus aan jullie een of meerdere visualisaties te realiseren, met data uit de gegevensbank die jullie voor dit werkje gebruikt hebben.\n",
    "\n",
    "Een goede oplossing van deze opgave voldoet aan volgende criteria:\n",
    "* Schrijf een query die informatie uit de gegevensbank ophaalt, en in een DataFrame stopt.\n",
    "* Maak een interessante visualisatie van (een deel van) de data in die DataFrame\n",
    "* Je beschrijft kort (mini-verslag hier in de notebook) wat je doet, en wat de inzichten zijn die de visualisatie verschaft.\n",
    "* Je bent in staat om dit mini-verslag ook mondeling te verdedigen, i.e. antwoorden op: wat doe je, waarom doe je dit, en wat was het resultaat.\n",
    "* 1 visualisatie volstaat, meer mag altijd.\n",
    "\n",
    "### Nuttige packages\n",
    "\n",
    "Om jullie al een beetje op weg te helpen, geven we jullie alvast de naam van twee handige en veelvoorkomende visualisatietools die goed werken met pandas DataFrames:\n",
    "\n",
    "1. seaborn\n",
    "2. matplotlib\n",
    "\n",
    "Voor een korte inleiding ivm seaborn kan je hier kijken: https://chrisalbon.com/python/pandas_with_seaborn.html\n",
    "Voor een korte inleiding ivm matplotlib kan je hier kijken: http://pandas.pydata.org/pandas-docs/stable/visualization.html\n",
    "\n",
    "Natuurlijk moet je vooraleer je aan zo'n visualisatie kan beginnen, al een pandas DataFrame hebben dat de juiste informatie bevat. De eerste stap zal er dus in bestaan om een goede query te schrijven die de nodige informatie uit de gegevensbank weet te halen, gevolgd door een visualisatie van de DataFrame die uit die query volgt."
   ]
  },
  {
   "cell_type": "code",
   "execution_count": 46,
   "metadata": {},
   "outputs": [
    {
     "data": {
      "image/png": "[encoded data removed]",
      "text/plain": [
       "<matplotlib.figure.Figure at 0x1d8330cad30>"
      ]
     },
     "metadata": {},
     "output_type": "display_data"
    }
   ],
   "source": [
    "import matplotlib.pyplot as plt \n",
    "import seaborn as sns\n",
    "\n",
    "def query_visualisation(connection,column_names):\n",
    "    query=\"\"\"\n",
    "    SELECT      s.weight, b.W as wins\n",
    "    FROM        Master as s JOIN pitching b ON s.playerID = b.playerID\n",
    "    GROUP BY    b.W;\n",
    "    \"\"\".format()\n",
    "    \n",
    "    #stap 2&3\n",
    "    r = run_query(connection, query)\n",
    "    frame = pd.DataFrame(r, columns=['weight', 'wins'], dtype=\"float\") #query in dataframe zetten\n",
    "    return frame\n",
    "\n",
    "data1 = query_visualisation(c, column_names)\n",
    "sns.lmplot(data=data1, x=\"weight\", y=\"wins\", fit_reg=True, size=13)\n",
    "plt.show()"
   ]
  },
  {
   "cell_type": "code",
   "execution_count": null,
   "metadata": {
    "collapsed": true
   },
   "outputs": [],
   "source": []
  },
  {
   "cell_type": "code",
   "execution_count": null,
   "metadata": {
    "collapsed": true
   },
   "outputs": [],
   "source": []
  }
 ],
 "metadata": {
  "anaconda-cloud": {},
  "kernelspec": {
   "display_name": "Python 3",
   "language": "python",
   "name": "python3"
  },
  "toc": {
   "navigate_menu": false,
   "number_sections": true,
   "sideBar": true,
   "threshold": "3",
   "toc_cell": false,
   "toc_section_display": "block",
   "toc_window_display": true
  }
 },
 "nbformat": 4,
 "nbformat_minor": 1
}
