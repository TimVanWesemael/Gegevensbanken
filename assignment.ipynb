{
 "cells": [
  {
   "cell_type": "markdown",
   "metadata": {},
   "source": [
    "# PROJECT GEGEVENSBANKEN 2018 - DEEL 3: QUERIES"
   ]
  },
  {
   "cell_type": "markdown",
   "metadata": {
    "heading_collapsed": true
   },
   "source": [
    "## 1. Inleiding\n",
    "\n",
    "Cf. het document `prerequisites.pdf` in de `docs` folder. "
   ]
  },
  {
   "cell_type": "markdown",
   "metadata": {
    "hidden": true
   },
   "source": [
    "### 1.1 Software"
   ]
  },
  {
   "cell_type": "markdown",
   "metadata": {
    "hidden": true
   },
   "source": [
    "In eerste instantie moeten de correcte packages geladen worden. We raden **sterk** aan om je ook tot deze packages te beperken, gezien wij de ingevulde methodes zullen runnen op onze eigen machines. \n",
    "\n",
    "Zelfde opmerking voor de gebruikte python versie, wij veronderstellen 3.6."
   ]
  },
  {
   "cell_type": "code",
   "execution_count": 1,
   "metadata": {
    "hidden": true
   },
   "outputs": [],
   "source": [
    "# Benodigde packages\n",
    "\n",
    "import json            # Package om .json files in te laden (bvb kolomnamen zijn zo opgeslagen)\n",
    "import getpass         # Package om een paswoordveldje te genereren.\n",
    "import mysql.connector # MySQL package\n",
    "import numpy as np\n",
    "import os\n",
    "import pandas as pd    # Populaire package voor data-verwerking\n",
    "import sys"
   ]
  },
  {
   "cell_type": "code",
   "execution_count": 2,
   "metadata": {
    "hidden": true
   },
   "outputs": [
    {
     "data": {
      "text/plain": [
       "sys.version_info(major=3, minor=6, micro=4, releaselevel='final', serial=0)"
      ]
     },
     "execution_count": 2,
     "metadata": {},
     "output_type": "execute_result"
    }
   ],
   "source": [
    "sys.version_info       # Check python versie, wij veronderstellen 3.6"
   ]
  },
  {
   "cell_type": "markdown",
   "metadata": {
    "hidden": true
   },
   "source": [
    "### 1.2 Interageren met een gegevensbank"
   ]
  },
  {
   "cell_type": "markdown",
   "metadata": {
    "hidden": true
   },
   "source": [
    "In deze sectie geven we al drie methodes mee om jullie leven al wat makkelijker te maken\n",
    "\n",
    "- `verbind met GB`\n",
    "    - Dit is functie die toelaat om gemakkelijk verbinding te maken met een database. De `username`, `hostname` en `gegevensbanknaam` worden als argumenten meegegeven met de functie. Deze functie geeft een `connection` object als output. Zo'n object is wat de `connect()` methode van het `mysql.connector` package teruggeeft. Dit is conform de python DB-API (cf. https://www.python.org/dev/peps/pep-0249/), een soort standaard waaraan python DB packages voldoen. \n",
    "    \n",
    "    Moest deze functie niet correct functioneren op je eigen besturingssysteem: voel je vrij om een variant te schrijven. Bij de correctie gebruiken wij onze eigen implementatie om een mysql `connection` object te maken. Deze functie is dus enkel voor jezelf van belang.\n",
    "    \n",
    "\n",
    "- `run_query`  \n",
    "    - Deze functie runt een gegeven `query` op een gegeven `connectie`, en geeft het resultaat terug.\n",
    "    \n",
    "    \n",
    "- `res_to_df`\n",
    "    - Deze functie giet het resultaat van een query (`query_result`) in een pandas dataframe, met vooraf gespecifieerde kolomnamen (`column_names`)."
   ]
  },
  {
   "cell_type": "code",
   "execution_count": 3,
   "metadata": {
    "code_folding": [
     0
    ],
    "hidden": true
   },
   "outputs": [],
   "source": [
    "def verbind_met_GB(username, hostname, gegevensbanknaam):\n",
    "    \"\"\"\n",
    "    Maak verbinding met een externe gegevensbank\n",
    "    \n",
    "    :param  username:          username van de gebruiker, string\n",
    "    :param  hostname:          naam van de host, string.\n",
    "                               Dit is in het geval van een lokale server gewoon 'localhost'\n",
    "    :param  gegevensbanknaam:  naam van de gegevensbank, string.\n",
    "    :return connection:        connection object, dit is wat teruggeven wordt \n",
    "                               door connect() methods van packages die voldoen aan de DB-API\n",
    "    \"\"\"\n",
    "    \n",
    "    password = getpass.getpass() # Genereer vakje voor wachtwoord in te geven\n",
    "    \n",
    "    connection = mysql.connector.connect(host=hostname,\n",
    "                                         user=username,\n",
    "                                         passwd=password,\n",
    "                                         db=gegevensbanknaam)\n",
    "    return connection\n",
    "\n",
    "\n",
    "def run_query(connection, query):\n",
    "    \"\"\"\n",
    "    Voer een query uit op een reeds gemaakte connectie, geeft het resultaat van de query terug\n",
    "    \"\"\"\n",
    "    \n",
    "    # Making a cursor and executing the query\n",
    "    cursor = connection.cursor()\n",
    "    cursor.execute(query)\n",
    "    \n",
    "    # Collecting the result and casting it in a pd.DataFrame\n",
    "    res = cursor.fetchall()\n",
    "    \n",
    "    return res\n",
    "\n",
    "\n",
    "def res_to_df(query_result, column_names):\n",
    "    \"\"\"\n",
    "    Giet het resultaat van een uitgevoerde query in een 'pandas dataframe'\n",
    "    met vooraf gespecifieerde kolomnamen.\n",
    "    \n",
    "    Let op: Het resultaat van de query moet dus exact evenveel kolommen bevatten\n",
    "    als kolomnamen die je meegeeft. Als dit niet het geval is, is dit een indicatie\n",
    "    dat je oplossing fout is. (Gezien wij de kolomnamen van de oplossing al cadeau doen)\n",
    "    \n",
    "    \"\"\"\n",
    "    df = pd.DataFrame(query_result, columns=column_names)\n",
    "    return df"
   ]
  },
  {
   "cell_type": "markdown",
   "metadata": {
    "hidden": true
   },
   "source": [
    "### 1.3 Kolomnamen en input parameters"
   ]
  },
  {
   "cell_type": "markdown",
   "metadata": {
    "hidden": true
   },
   "source": [
    "We leggen op voorhand reeds de **kolomnamen van de oplossingen**, en de **naam en types van de inputparameters** vast. Hier moet je je dus aan houden en mag je dus niks aan wijzigen.\n",
    "\n",
    "- Het aantal kolommen (en hun volgorde) van jullie oplossing en de onze moeten exact overeen komen, vandaar dat de kolomnamen hieronder gegeven zijn. Dit komt trouwens van pas bij het opstellen van je queries! \n",
    "    \n",
    "    \n",
    "- Dankzij de voorbeeldparameters, die al gegeven zijn in de functiedefinitie e.g., \n",
    "        query_42(connection, col_names, super_voorbeeldparam = 101)\n",
    "  weten jullie exact welke vorm en type (integer, lijst, etc) de inputparameters zullen hebben. Wijzig zeker niets aan de naam van die parameters (i.e.,*super_voorbeeldparam* blijft *super_voorbeeldparam*). De default waarden die we ingevuld hebben zijn ter illustratie, zorg ervoor dat je query ook met andere waarden dan de defaults werkt!\n",
    "\n",
    "**Oplossingen die deze vorm niet respecteren, zullen crashen op onze machines en resulteren in een score van 0 op die query.**"
   ]
  },
  {
   "cell_type": "code",
   "execution_count": 4,
   "metadata": {
    "hidden": true
   },
   "outputs": [
    {
     "data": {
      "text/plain": [
       "{'query_01': ['tname', 'year', 'HomeRun'],\n",
       " 'query_02': ['nameFirst', 'nameLast', 'birthYear', 'birthMonth', 'birthDay'],\n",
       " 'query_03': ['nameFirst', 'nameLast', 'tname'],\n",
       " 'query_04': ['tname', 'rank', 'W', 'L', 'nameFirst', 'nameLast'],\n",
       " 'query_05': ['tname'],\n",
       " 'query_06': ['tname', 'yearID', 'rank', 'W', 'L'],\n",
       " 'query_07': ['nameLast', 'nameFirst'],\n",
       " 'query_08': ['birthState',\n",
       "  'avg_weight',\n",
       "  'avg_height',\n",
       "  'avg_HomeRun',\n",
       "  'avg_Saves'],\n",
       " 'query_09': ['yearID', 'tname', 'HomeRun'],\n",
       " 'query_10': ['yearID', 'tname', 'rank', 'Games']}"
      ]
     },
     "execution_count": 4,
     "metadata": {},
     "output_type": "execute_result"
    }
   ],
   "source": [
    "# Dictionary van kolomnamen inladen\n",
    "\n",
    "filename = os.path.join(os.getcwd(), 'solution', 'all_q_colnam.json')\n",
    "col_names = json.load(open(filename, 'r'))    \n",
    "\n",
    "col_names # Inspecteer dictionary"
   ]
  },
  {
   "cell_type": "markdown",
   "metadata": {
    "heading_collapsed": true
   },
   "source": [
    "## 2. Hoe deze notebook in te vullen"
   ]
  },
  {
   "cell_type": "markdown",
   "metadata": {
    "hidden": true
   },
   "source": [
    "Hieronder volgen 10 onvolledige methodes/functies (e.g., `query_42(c, col_names, super_voorbeeldparam = ['joske', 'jef'])`). Aan jullie om ze aan te vullen zodat:\n",
    "    1. Een correcte query gegenereerd wordt\n",
    "    2. De query uitgevoerd wordt\n",
    "    3. Het resultaat wordt teruggegeven in een Pandas DataFrame\n",
    "\n",
    "Voor stap 2 en 3 zijn de nodige methodes al voorhanden, i.e.: `run_query(connection, query)` en `res_to_df(res, column_names)`. Jullie werk zal dus vooral bestaan uit stap 1, queries genereren.\n",
    "  \n",
    "    \n",
    "    \n",
    "Elke functie heeft minstens 2 inputargumenten:\n",
    "    1. `connection`:   Een connection object \n",
    "    2. `column_names`: De kolomnamen van het Pandas DataFrame\n",
    "    \n",
    "Gevolgd door eventuele extra argumenten (e.g., `super_voorbeeldparam = ['joske','jef']`) van de inputparameters. \n",
    "\n",
    "**Nogmaals: verander niets aan de namen van de methodes, namen van de parameters en de kolomnamen van de resulterende DataFrames. Wijzigingen hieraan leiden onvermijdelijk tot een score van 0 op die query.**\n",
    "\n",
    "Je kan naar believen extra cellen toevoegen om je queries te testen, resultaten te inspecteren etc. We vragen jullie om de finale, ingevulde methodes te kopiëren naar een extern script dat enkel en alleen deze oplossingen bevat. Cf. de laatste sectie voor instructies omtrent het effectieve indienen."
   ]
  },
  {
   "cell_type": "markdown",
   "metadata": {},
   "source": [
    "## 3. Voorbeeld"
   ]
  },
  {
   "cell_type": "markdown",
   "metadata": {},
   "source": [
    "Om jullie al wat op weg te zetten volgt hier een voorbeeldje over hoe je te werk kan gaan."
   ]
  },
  {
   "cell_type": "markdown",
   "metadata": {},
   "source": [
    "### 3.1 Query EXAMPLE\n",
    "\n",
    "**Beschrijving**\n",
    "\n",
    "Het resultaat van deze functie is een Pandas DataFrame met teamnaam, jaar en aantal homeruns van teams die meer dan een gegeven aantal *`homeruns`* hadden in dat jaar."
   ]
  },
  {
   "cell_type": "code",
   "execution_count": 6,
   "metadata": {},
   "outputs": [],
   "source": [
    "def query_EX(connection, column_names, homeruns=20):\n",
    "    # Bouw je query\n",
    "    query=\"\"\"\n",
    "    select t.name, t.yearID, t.HR\n",
    "    from Teams as t\n",
    "    where t.HR > {};\n",
    "    \"\"\".format(homeruns) # TIP: Zo krijg je parameters in de string (samen met `{}` in de string)\n",
    "    \n",
    "    # Stap 2 & 3\n",
    "    res = run_query(connection, query)         # Query uitvoeren\n",
    "    df = res_to_df(res, column_names)          # Query in DataFrame brengen\n",
    "    \n",
    "    return df"
   ]
  },
  {
   "cell_type": "markdown",
   "metadata": {},
   "source": [
    "Eerst maken we een verbindingsobject met de databank"
   ]
  },
  {
   "cell_type": "code",
   "execution_count": 5,
   "metadata": {},
   "outputs": [
    {
     "name": "stdout",
     "output_type": "stream",
     "text": [
      "········\n"
     ]
    }
   ],
   "source": [
    "username = 'root'      # Vervang dit als je via een andere user queries stuurt\n",
    "hostname = 'localhost' # Als je een databank lokaal draait, is dit localhost.\n",
    "db = 'lahman2016'      # Naam van de gegevensbank op je XAMPP Mysql server\n",
    "\n",
    "# We verbinden met de gegevensbank\n",
    "c = verbind_met_GB(username, hostname, db)"
   ]
  },
  {
   "cell_type": "markdown",
   "metadata": {},
   "source": [
    "Vervolgens runnen we onze query, en inspecteren we het resultaat."
   ]
  },
  {
   "cell_type": "code",
   "execution_count": 11,
   "metadata": {},
   "outputs": [
    {
     "data": {
      "text/html": [
       "<div>\n",
       "<style scoped>\n",
       "    .dataframe tbody tr th:only-of-type {\n",
       "        vertical-align: middle;\n",
       "    }\n",
       "\n",
       "    .dataframe tbody tr th {\n",
       "        vertical-align: top;\n",
       "    }\n",
       "\n",
       "    .dataframe thead th {\n",
       "        text-align: right;\n",
       "    }\n",
       "</style>\n",
       "<table border=\"1\" class=\"dataframe\">\n",
       "  <thead>\n",
       "    <tr style=\"text-align: right;\">\n",
       "      <th></th>\n",
       "      <th>nameFirst</th>\n",
       "      <th>nameLast</th>\n",
       "      <th>birthYear</th>\n",
       "      <th>birthMonth</th>\n",
       "      <th>birthDay</th>\n",
       "    </tr>\n",
       "  </thead>\n",
       "  <tbody>\n",
       "    <tr>\n",
       "      <th>0</th>\n",
       "      <td>David</td>\n",
       "      <td>Aardsma</td>\n",
       "      <td>1981</td>\n",
       "      <td>12</td>\n",
       "      <td>27</td>\n",
       "    </tr>\n",
       "    <tr>\n",
       "      <th>1</th>\n",
       "      <td>Hank</td>\n",
       "      <td>Aaron</td>\n",
       "      <td>1934</td>\n",
       "      <td>2</td>\n",
       "      <td>5</td>\n",
       "    </tr>\n",
       "    <tr>\n",
       "      <th>2</th>\n",
       "      <td>Tommie</td>\n",
       "      <td>Aaron</td>\n",
       "      <td>1939</td>\n",
       "      <td>8</td>\n",
       "      <td>5</td>\n",
       "    </tr>\n",
       "    <tr>\n",
       "      <th>3</th>\n",
       "      <td>Don</td>\n",
       "      <td>Aase</td>\n",
       "      <td>1954</td>\n",
       "      <td>9</td>\n",
       "      <td>8</td>\n",
       "    </tr>\n",
       "    <tr>\n",
       "      <th>4</th>\n",
       "      <td>Andy</td>\n",
       "      <td>Abad</td>\n",
       "      <td>1972</td>\n",
       "      <td>8</td>\n",
       "      <td>25</td>\n",
       "    </tr>\n",
       "    <tr>\n",
       "      <th>5</th>\n",
       "      <td>Fernando</td>\n",
       "      <td>Abad</td>\n",
       "      <td>1985</td>\n",
       "      <td>12</td>\n",
       "      <td>17</td>\n",
       "    </tr>\n",
       "    <tr>\n",
       "      <th>6</th>\n",
       "      <td>John</td>\n",
       "      <td>Abadie</td>\n",
       "      <td>1850</td>\n",
       "      <td>11</td>\n",
       "      <td>4</td>\n",
       "    </tr>\n",
       "    <tr>\n",
       "      <th>7</th>\n",
       "      <td>Ed</td>\n",
       "      <td>Abbaticchio</td>\n",
       "      <td>1877</td>\n",
       "      <td>4</td>\n",
       "      <td>15</td>\n",
       "    </tr>\n",
       "    <tr>\n",
       "      <th>8</th>\n",
       "      <td>Bert</td>\n",
       "      <td>Abbey</td>\n",
       "      <td>1869</td>\n",
       "      <td>11</td>\n",
       "      <td>11</td>\n",
       "    </tr>\n",
       "    <tr>\n",
       "      <th>9</th>\n",
       "      <td>Charlie</td>\n",
       "      <td>Abbey</td>\n",
       "      <td>1866</td>\n",
       "      <td>10</td>\n",
       "      <td>14</td>\n",
       "    </tr>\n",
       "    <tr>\n",
       "      <th>10</th>\n",
       "      <td>Dan</td>\n",
       "      <td>Abbott</td>\n",
       "      <td>1862</td>\n",
       "      <td>3</td>\n",
       "      <td>16</td>\n",
       "    </tr>\n",
       "    <tr>\n",
       "      <th>11</th>\n",
       "      <td>Fred</td>\n",
       "      <td>Abbott</td>\n",
       "      <td>1874</td>\n",
       "      <td>10</td>\n",
       "      <td>22</td>\n",
       "    </tr>\n",
       "    <tr>\n",
       "      <th>12</th>\n",
       "      <td>Glenn</td>\n",
       "      <td>Abbott</td>\n",
       "      <td>1951</td>\n",
       "      <td>2</td>\n",
       "      <td>16</td>\n",
       "    </tr>\n",
       "    <tr>\n",
       "      <th>13</th>\n",
       "      <td>Jeff</td>\n",
       "      <td>Abbott</td>\n",
       "      <td>1972</td>\n",
       "      <td>8</td>\n",
       "      <td>17</td>\n",
       "    </tr>\n",
       "    <tr>\n",
       "      <th>14</th>\n",
       "      <td>Jim</td>\n",
       "      <td>Abbott</td>\n",
       "      <td>1967</td>\n",
       "      <td>9</td>\n",
       "      <td>19</td>\n",
       "    </tr>\n",
       "    <tr>\n",
       "      <th>15</th>\n",
       "      <td>Kurt</td>\n",
       "      <td>Abbott</td>\n",
       "      <td>1969</td>\n",
       "      <td>6</td>\n",
       "      <td>2</td>\n",
       "    </tr>\n",
       "    <tr>\n",
       "      <th>16</th>\n",
       "      <td>Kyle</td>\n",
       "      <td>Abbott</td>\n",
       "      <td>1968</td>\n",
       "      <td>2</td>\n",
       "      <td>18</td>\n",
       "    </tr>\n",
       "    <tr>\n",
       "      <th>17</th>\n",
       "      <td>Ody</td>\n",
       "      <td>Abbott</td>\n",
       "      <td>1888</td>\n",
       "      <td>9</td>\n",
       "      <td>5</td>\n",
       "    </tr>\n",
       "    <tr>\n",
       "      <th>18</th>\n",
       "      <td>Paul</td>\n",
       "      <td>Abbott</td>\n",
       "      <td>1967</td>\n",
       "      <td>9</td>\n",
       "      <td>15</td>\n",
       "    </tr>\n",
       "    <tr>\n",
       "      <th>19</th>\n",
       "      <td>Al</td>\n",
       "      <td>Aber</td>\n",
       "      <td>1927</td>\n",
       "      <td>7</td>\n",
       "      <td>31</td>\n",
       "    </tr>\n",
       "    <tr>\n",
       "      <th>20</th>\n",
       "      <td>Frank</td>\n",
       "      <td>Abercrombie</td>\n",
       "      <td>1850</td>\n",
       "      <td>1</td>\n",
       "      <td>2</td>\n",
       "    </tr>\n",
       "    <tr>\n",
       "      <th>21</th>\n",
       "      <td>Reggie</td>\n",
       "      <td>Abercrombie</td>\n",
       "      <td>1980</td>\n",
       "      <td>7</td>\n",
       "      <td>15</td>\n",
       "    </tr>\n",
       "    <tr>\n",
       "      <th>22</th>\n",
       "      <td>Bill</td>\n",
       "      <td>Abernathie</td>\n",
       "      <td>1929</td>\n",
       "      <td>1</td>\n",
       "      <td>30</td>\n",
       "    </tr>\n",
       "    <tr>\n",
       "      <th>23</th>\n",
       "      <td>Brent</td>\n",
       "      <td>Abernathy</td>\n",
       "      <td>1977</td>\n",
       "      <td>9</td>\n",
       "      <td>23</td>\n",
       "    </tr>\n",
       "    <tr>\n",
       "      <th>24</th>\n",
       "      <td>Ted</td>\n",
       "      <td>Abernathy</td>\n",
       "      <td>1921</td>\n",
       "      <td>10</td>\n",
       "      <td>30</td>\n",
       "    </tr>\n",
       "    <tr>\n",
       "      <th>25</th>\n",
       "      <td>Ted</td>\n",
       "      <td>Abernathy</td>\n",
       "      <td>1933</td>\n",
       "      <td>3</td>\n",
       "      <td>6</td>\n",
       "    </tr>\n",
       "    <tr>\n",
       "      <th>26</th>\n",
       "      <td>Woody</td>\n",
       "      <td>Abernathy</td>\n",
       "      <td>1915</td>\n",
       "      <td>2</td>\n",
       "      <td>1</td>\n",
       "    </tr>\n",
       "    <tr>\n",
       "      <th>27</th>\n",
       "      <td>Cliff</td>\n",
       "      <td>Aberson</td>\n",
       "      <td>1921</td>\n",
       "      <td>8</td>\n",
       "      <td>28</td>\n",
       "    </tr>\n",
       "    <tr>\n",
       "      <th>28</th>\n",
       "      <td>Harry</td>\n",
       "      <td>Ables</td>\n",
       "      <td>1883</td>\n",
       "      <td>10</td>\n",
       "      <td>4</td>\n",
       "    </tr>\n",
       "    <tr>\n",
       "      <th>29</th>\n",
       "      <td>Shawn</td>\n",
       "      <td>Abner</td>\n",
       "      <td>1966</td>\n",
       "      <td>6</td>\n",
       "      <td>17</td>\n",
       "    </tr>\n",
       "    <tr>\n",
       "      <th>...</th>\n",
       "      <td>...</td>\n",
       "      <td>...</td>\n",
       "      <td>...</td>\n",
       "      <td>...</td>\n",
       "      <td>...</td>\n",
       "    </tr>\n",
       "    <tr>\n",
       "      <th>19075</th>\n",
       "      <td>Roy</td>\n",
       "      <td>Zimmerman</td>\n",
       "      <td>1913</td>\n",
       "      <td>9</td>\n",
       "      <td>13</td>\n",
       "    </tr>\n",
       "    <tr>\n",
       "      <th>19076</th>\n",
       "      <td>Ryan</td>\n",
       "      <td>Zimmerman</td>\n",
       "      <td>1984</td>\n",
       "      <td>9</td>\n",
       "      <td>28</td>\n",
       "    </tr>\n",
       "    <tr>\n",
       "      <th>19077</th>\n",
       "      <td>Jordan</td>\n",
       "      <td>Zimmermann</td>\n",
       "      <td>1986</td>\n",
       "      <td>5</td>\n",
       "      <td>23</td>\n",
       "    </tr>\n",
       "    <tr>\n",
       "      <th>19078</th>\n",
       "      <td>Charlie</td>\n",
       "      <td>Zink</td>\n",
       "      <td>1979</td>\n",
       "      <td>8</td>\n",
       "      <td>26</td>\n",
       "    </tr>\n",
       "    <tr>\n",
       "      <th>19079</th>\n",
       "      <td>Walter</td>\n",
       "      <td>Zink</td>\n",
       "      <td>1898</td>\n",
       "      <td>11</td>\n",
       "      <td>21</td>\n",
       "    </tr>\n",
       "    <tr>\n",
       "      <th>19080</th>\n",
       "      <td>Frank</td>\n",
       "      <td>Zinn</td>\n",
       "      <td>1865</td>\n",
       "      <td>12</td>\n",
       "      <td>21</td>\n",
       "    </tr>\n",
       "    <tr>\n",
       "      <th>19081</th>\n",
       "      <td>Guy</td>\n",
       "      <td>Zinn</td>\n",
       "      <td>1887</td>\n",
       "      <td>2</td>\n",
       "      <td>13</td>\n",
       "    </tr>\n",
       "    <tr>\n",
       "      <th>19082</th>\n",
       "      <td>Jimmy</td>\n",
       "      <td>Zinn</td>\n",
       "      <td>1895</td>\n",
       "      <td>1</td>\n",
       "      <td>21</td>\n",
       "    </tr>\n",
       "    <tr>\n",
       "      <th>19083</th>\n",
       "      <td>Bill</td>\n",
       "      <td>Zinser</td>\n",
       "      <td>1918</td>\n",
       "      <td>1</td>\n",
       "      <td>6</td>\n",
       "    </tr>\n",
       "    <tr>\n",
       "      <th>19084</th>\n",
       "      <td>Alan</td>\n",
       "      <td>Zinter</td>\n",
       "      <td>1968</td>\n",
       "      <td>5</td>\n",
       "      <td>19</td>\n",
       "    </tr>\n",
       "    <tr>\n",
       "      <th>19085</th>\n",
       "      <td>Bud</td>\n",
       "      <td>Zipfel</td>\n",
       "      <td>1938</td>\n",
       "      <td>11</td>\n",
       "      <td>18</td>\n",
       "    </tr>\n",
       "    <tr>\n",
       "      <th>19086</th>\n",
       "      <td>Richie</td>\n",
       "      <td>Zisk</td>\n",
       "      <td>1949</td>\n",
       "      <td>2</td>\n",
       "      <td>6</td>\n",
       "    </tr>\n",
       "    <tr>\n",
       "      <th>19087</th>\n",
       "      <td>Barry</td>\n",
       "      <td>Zito</td>\n",
       "      <td>1978</td>\n",
       "      <td>5</td>\n",
       "      <td>13</td>\n",
       "    </tr>\n",
       "    <tr>\n",
       "      <th>19088</th>\n",
       "      <td>Billy</td>\n",
       "      <td>Zitzmann</td>\n",
       "      <td>1895</td>\n",
       "      <td>11</td>\n",
       "      <td>19</td>\n",
       "    </tr>\n",
       "    <tr>\n",
       "      <th>19089</th>\n",
       "      <td>Ed</td>\n",
       "      <td>Zmich</td>\n",
       "      <td>1884</td>\n",
       "      <td>10</td>\n",
       "      <td>1</td>\n",
       "    </tr>\n",
       "    <tr>\n",
       "      <th>19090</th>\n",
       "      <td>Ben</td>\n",
       "      <td>Zobrist</td>\n",
       "      <td>1981</td>\n",
       "      <td>5</td>\n",
       "      <td>26</td>\n",
       "    </tr>\n",
       "    <tr>\n",
       "      <th>19091</th>\n",
       "      <td>Peter</td>\n",
       "      <td>Zoccolillo</td>\n",
       "      <td>1977</td>\n",
       "      <td>2</td>\n",
       "      <td>6</td>\n",
       "    </tr>\n",
       "    <tr>\n",
       "      <th>19092</th>\n",
       "      <td>Sam</td>\n",
       "      <td>Zoldak</td>\n",
       "      <td>1918</td>\n",
       "      <td>12</td>\n",
       "      <td>8</td>\n",
       "    </tr>\n",
       "    <tr>\n",
       "      <th>19093</th>\n",
       "      <td>Eddie</td>\n",
       "      <td>Zosky</td>\n",
       "      <td>1968</td>\n",
       "      <td>2</td>\n",
       "      <td>10</td>\n",
       "    </tr>\n",
       "    <tr>\n",
       "      <th>19094</th>\n",
       "      <td>Bill</td>\n",
       "      <td>Zuber</td>\n",
       "      <td>1913</td>\n",
       "      <td>3</td>\n",
       "      <td>26</td>\n",
       "    </tr>\n",
       "    <tr>\n",
       "      <th>19095</th>\n",
       "      <td>Jon</td>\n",
       "      <td>Zuber</td>\n",
       "      <td>1969</td>\n",
       "      <td>12</td>\n",
       "      <td>10</td>\n",
       "    </tr>\n",
       "    <tr>\n",
       "      <th>19096</th>\n",
       "      <td>Julio</td>\n",
       "      <td>Zuleta</td>\n",
       "      <td>1975</td>\n",
       "      <td>3</td>\n",
       "      <td>28</td>\n",
       "    </tr>\n",
       "    <tr>\n",
       "      <th>19097</th>\n",
       "      <td>Joel</td>\n",
       "      <td>Zumaya</td>\n",
       "      <td>1984</td>\n",
       "      <td>11</td>\n",
       "      <td>9</td>\n",
       "    </tr>\n",
       "    <tr>\n",
       "      <th>19098</th>\n",
       "      <td>Mike</td>\n",
       "      <td>Zunino</td>\n",
       "      <td>1991</td>\n",
       "      <td>3</td>\n",
       "      <td>25</td>\n",
       "    </tr>\n",
       "    <tr>\n",
       "      <th>19099</th>\n",
       "      <td>Bob</td>\n",
       "      <td>Zupcic</td>\n",
       "      <td>1966</td>\n",
       "      <td>8</td>\n",
       "      <td>18</td>\n",
       "    </tr>\n",
       "    <tr>\n",
       "      <th>19100</th>\n",
       "      <td>Frank</td>\n",
       "      <td>Zupo</td>\n",
       "      <td>1939</td>\n",
       "      <td>8</td>\n",
       "      <td>29</td>\n",
       "    </tr>\n",
       "    <tr>\n",
       "      <th>19101</th>\n",
       "      <td>Paul</td>\n",
       "      <td>Zuvella</td>\n",
       "      <td>1958</td>\n",
       "      <td>10</td>\n",
       "      <td>31</td>\n",
       "    </tr>\n",
       "    <tr>\n",
       "      <th>19102</th>\n",
       "      <td>George</td>\n",
       "      <td>Zuverink</td>\n",
       "      <td>1924</td>\n",
       "      <td>8</td>\n",
       "      <td>20</td>\n",
       "    </tr>\n",
       "    <tr>\n",
       "      <th>19103</th>\n",
       "      <td>Dutch</td>\n",
       "      <td>Zwilling</td>\n",
       "      <td>1888</td>\n",
       "      <td>11</td>\n",
       "      <td>2</td>\n",
       "    </tr>\n",
       "    <tr>\n",
       "      <th>19104</th>\n",
       "      <td>Tony</td>\n",
       "      <td>Zych</td>\n",
       "      <td>1990</td>\n",
       "      <td>8</td>\n",
       "      <td>7</td>\n",
       "    </tr>\n",
       "  </tbody>\n",
       "</table>\n",
       "<p>19105 rows × 5 columns</p>\n",
       "</div>"
      ],
      "text/plain": [
       "      nameFirst     nameLast  birthYear  birthMonth  birthDay\n",
       "0         David      Aardsma       1981          12        27\n",
       "1          Hank        Aaron       1934           2         5\n",
       "2        Tommie        Aaron       1939           8         5\n",
       "3           Don         Aase       1954           9         8\n",
       "4          Andy         Abad       1972           8        25\n",
       "5      Fernando         Abad       1985          12        17\n",
       "6          John       Abadie       1850          11         4\n",
       "7            Ed  Abbaticchio       1877           4        15\n",
       "8          Bert        Abbey       1869          11        11\n",
       "9       Charlie        Abbey       1866          10        14\n",
       "10          Dan       Abbott       1862           3        16\n",
       "11         Fred       Abbott       1874          10        22\n",
       "12        Glenn       Abbott       1951           2        16\n",
       "13         Jeff       Abbott       1972           8        17\n",
       "14          Jim       Abbott       1967           9        19\n",
       "15         Kurt       Abbott       1969           6         2\n",
       "16         Kyle       Abbott       1968           2        18\n",
       "17          Ody       Abbott       1888           9         5\n",
       "18         Paul       Abbott       1967           9        15\n",
       "19           Al         Aber       1927           7        31\n",
       "20        Frank  Abercrombie       1850           1         2\n",
       "21       Reggie  Abercrombie       1980           7        15\n",
       "22         Bill   Abernathie       1929           1        30\n",
       "23        Brent    Abernathy       1977           9        23\n",
       "24          Ted    Abernathy       1921          10        30\n",
       "25          Ted    Abernathy       1933           3         6\n",
       "26        Woody    Abernathy       1915           2         1\n",
       "27        Cliff      Aberson       1921           8        28\n",
       "28        Harry        Ables       1883          10         4\n",
       "29        Shawn        Abner       1966           6        17\n",
       "...         ...          ...        ...         ...       ...\n",
       "19075       Roy    Zimmerman       1913           9        13\n",
       "19076      Ryan    Zimmerman       1984           9        28\n",
       "19077    Jordan   Zimmermann       1986           5        23\n",
       "19078   Charlie         Zink       1979           8        26\n",
       "19079    Walter         Zink       1898          11        21\n",
       "19080     Frank         Zinn       1865          12        21\n",
       "19081       Guy         Zinn       1887           2        13\n",
       "19082     Jimmy         Zinn       1895           1        21\n",
       "19083      Bill       Zinser       1918           1         6\n",
       "19084      Alan       Zinter       1968           5        19\n",
       "19085       Bud       Zipfel       1938          11        18\n",
       "19086    Richie         Zisk       1949           2         6\n",
       "19087     Barry         Zito       1978           5        13\n",
       "19088     Billy     Zitzmann       1895          11        19\n",
       "19089        Ed        Zmich       1884          10         1\n",
       "19090       Ben      Zobrist       1981           5        26\n",
       "19091     Peter   Zoccolillo       1977           2         6\n",
       "19092       Sam       Zoldak       1918          12         8\n",
       "19093     Eddie        Zosky       1968           2        10\n",
       "19094      Bill        Zuber       1913           3        26\n",
       "19095       Jon        Zuber       1969          12        10\n",
       "19096     Julio       Zuleta       1975           3        28\n",
       "19097      Joel       Zumaya       1984          11         9\n",
       "19098      Mike       Zunino       1991           3        25\n",
       "19099       Bob       Zupcic       1966           8        18\n",
       "19100     Frank         Zupo       1939           8        29\n",
       "19101      Paul      Zuvella       1958          10        31\n",
       "19102    George     Zuverink       1924           8        20\n",
       "19103     Dutch     Zwilling       1888          11         2\n",
       "19104      Tony         Zych       1990           8         7\n",
       "\n",
       "[19105 rows x 5 columns]"
      ]
     },
     "execution_count": 11,
     "metadata": {},
     "output_type": "execute_result"
    }
   ],
   "source": [
    "# De voorbeeldquery heeft dezelfde kolomnamen als query 1, dus we gebruiken die\n",
    "kolommen = col_names['query_01'] \n",
    "\n",
    "# Functie uitvoeren, geeft resultaat van de query in een DataFrame\n",
    "df = query_EX(c, col_names['query_01'],10)\n",
    "\n",
    "# We inspecteren de eerste paar resultaten (voor alles te zien: laat .head() weg)\n",
    "df"
   ]
  },
  {
   "cell_type": "markdown",
   "metadata": {},
   "source": [
    "En we runnen onze query nogmaals met een andere waarde voor de parameter `jaar`"
   ]
  },
  {
   "cell_type": "code",
   "execution_count": 7,
   "metadata": {},
   "outputs": [
    {
     "ename": "NameError",
     "evalue": "name 'query_EX' is not defined",
     "output_type": "error",
     "traceback": [
      "\u001b[0;31m---------------------------------------------------------------------------\u001b[0m",
      "\u001b[0;31mNameError\u001b[0m                                 Traceback (most recent call last)",
      "\u001b[0;32m<ipython-input-7-35ae144e0e0a>\u001b[0m in \u001b[0;36m<module>\u001b[0;34m()\u001b[0m\n\u001b[1;32m      1\u001b[0m \u001b[0;31m# Functie uitvoeren, geeft resultaat van de query in een DataFrame\u001b[0m\u001b[0;34m\u001b[0m\u001b[0;34m\u001b[0m\u001b[0m\n\u001b[0;32m----> 2\u001b[0;31m \u001b[0mdf\u001b[0m \u001b[0;34m=\u001b[0m \u001b[0mquery_EX\u001b[0m\u001b[0;34m(\u001b[0m\u001b[0mc\u001b[0m\u001b[0;34m,\u001b[0m \u001b[0mcol_names\u001b[0m\u001b[0;34m[\u001b[0m\u001b[0;34m'query_01'\u001b[0m\u001b[0;34m]\u001b[0m\u001b[0;34m,\u001b[0m \u001b[0mhomeruns\u001b[0m\u001b[0;34m=\u001b[0m\u001b[0;36m250\u001b[0m\u001b[0;34m)\u001b[0m\u001b[0;34m\u001b[0m\u001b[0m\n\u001b[0m\u001b[1;32m      3\u001b[0m \u001b[0;34m\u001b[0m\u001b[0m\n\u001b[1;32m      4\u001b[0m \u001b[0;31m# We inspecteren de eerste paar resultaten (voor alles te zien: laat .head() weg)\u001b[0m\u001b[0;34m\u001b[0m\u001b[0;34m\u001b[0m\u001b[0m\n\u001b[1;32m      5\u001b[0m \u001b[0mdf\u001b[0m\u001b[0;34m\u001b[0m\u001b[0m\n",
      "\u001b[0;31mNameError\u001b[0m: name 'query_EX' is not defined"
     ]
    }
   ],
   "source": [
    "# Functie uitvoeren, geeft resultaat van de query in een DataFrame\n",
    "df = query_EX(c, col_names['query_01'], homeruns=250)\n",
    "\n",
    "# We inspecteren de eerste paar resultaten (voor alles te zien: laat .head() weg)\n",
    "df"
   ]
  },
  {
   "cell_type": "markdown",
   "metadata": {},
   "source": [
    "## 4. Queries"
   ]
  },
  {
   "cell_type": "markdown",
   "metadata": {},
   "source": [
    "### 4.1 Query 01\n",
    "\n",
    "**Beschrijving**\n",
    "\n",
    "Het resultaat van deze functie is een Pandas dataframe met: de teamnaam, het jaar, en het aantal homeruns per team, en dit voor alle teams, gesorteerd op aantal homeruns van hoog naar laag."
   ]
  },
  {
   "cell_type": "code",
   "execution_count": 8,
   "metadata": {},
   "outputs": [],
   "source": [
    "def query_01(connection, column_names):\n",
    "    # Bouw je query\n",
    "    query=\"\"\"\n",
    "    SELECT t.name, t.yearID, t.HR\n",
    "    FROM Teams as t\n",
    "    ORDER BY t.HR DESC;\n",
    "    \"\"\"\n",
    "    \n",
    "    # Stap 2 & 3\n",
    "    res = run_query(connection, query)         # Query uitvoeren\n",
    "    df = res_to_df(res, column_names)          # Query in DataFrame brengen\n",
    "    \n",
    "    return df"
   ]
  },
  {
   "cell_type": "markdown",
   "metadata": {
    "collapsed": true
   },
   "source": [
    "### 4.2 Query 02\n",
    "\n",
    "**Beschrijving**\n",
    "\n",
    "Het resultaat van deze functie is een Pandas dataframe met: de voornaam, achternaam, geboortejaar, geboortemaand, geboortedag van spelers die hun eerste major league appearance maakten na een gegeven *`datum`*. \n",
    "\n",
    "De tabel is oplopend alfabetisch gesorteerd op achternaam."
   ]
  },
  {
   "cell_type": "code",
   "execution_count": 6,
   "metadata": {},
   "outputs": [],
   "source": [
    "def query_02(connection, column_names, datum = '1980-01-16'):\n",
    "    # Bouw je query\n",
    "    query=\"\"\"\n",
    "    SELECT p.nameFirst, p.nameLast, p.birthYear, p.birthMonth, p.birthDay\n",
    "    FROM Master as p\n",
    "    WHERE p.debut > {};\n",
    "    ORDER BY p.nameLast ASC;\n",
    "    \"\"\".format(datum)\n",
    "    \n",
    "    # Stap 2 & 3\n",
    "    res = run_query(connection, query)         # Query uitvoeren\n",
    "    df = res_to_df(res, column_names)          # Query in DataFrame brengen\n",
    "    \n",
    "    return df"
   ]
  },
  {
   "cell_type": "markdown",
   "metadata": {},
   "source": [
    "### 4.3 Query 03\n",
    "\n",
    "**Beschrijving**\n",
    "\n",
    "Het resultaat van deze functie is een Pandas dataframe dat per club: de clubnaam en de voor- en achternaam van alle managers weergeeft, die ooit voor de club gewerkt hebben als niet-playermanager. Per club mag een welbepaalde manager slechts 1 keer in het resultaat voorkomen. \n",
    "\n",
    "Sorteer oplopend alfabetisch op clubnaam."
   ]
  },
  {
   "cell_type": "code",
   "execution_count": null,
   "metadata": {
    "collapsed": true
   },
   "outputs": [],
   "source": [
    "def query_03(connection, column_names):\n",
    "    # Bouw je query\n",
    "    query=\"\"\"\n",
    "    SELECT   franchname, nameFirst, nameLast\n",
    "    FROM     teams t\n",
    "        JOIN    teamsfranchises ts ON t.franchID = ts.franchID\n",
    "        JOIN    managers m ON t.teamID = m.teamID\n",
    "        JOIN    master mstr ON m.playerID = mstr.playerID\n",
    "    WHERE    m.plyrMgr = 'N'\n",
    "    ORDER BY franchname;\n",
    "    \"\"\"\n",
    "    \n",
    "    # Stap 2 & 3\n",
    "    res = run_query(connection, query)         # Query uitvoeren\n",
    "    df = res_to_df(res, column_names)          # Query in DataFrame brengen\n",
    "    \n",
    "    return df"
   ]
  },
  {
   "cell_type": "markdown",
   "metadata": {},
   "source": [
    "### 4.4 Query 04\n",
    "\n",
    "**Beschrijving**\n",
    "\n",
    "Het resultaat van deze functie is een Pandas dataframe met gegevens van teams (teamnaam, rang, aantal wins en losses) en van managers (voor- en achternaam) zodanig dat\n",
    "1. de desbetreffende manager is opgenomen in de hall of fame na *`datum x`* \n",
    "2. de manager in kwestie was ooit, na *`datum y`*, manager van het team in kwestie\n",
    "\n",
    "De tabel moet gesorteerd zijn op teamnaam en rang (alfabetisch oplopend)."
   ]
  },
  {
   "cell_type": "code",
   "execution_count": null,
   "metadata": {
    "collapsed": true
   },
   "outputs": [],
   "source": [
    "def query_04(connection, column_names, datum_x='1980-01-01', datum_y='1980-01-01'):\n",
    "    # Bouw je query\n",
    "    query=\"\"\"\n",
    "    MAAK QUERY HIER\n",
    "    \"\"\"\n",
    "    \n",
    "    # Stap 2 & 3\n",
    "    res = run_query(connection, query)         # Query uitvoeren\n",
    "    df = res_to_df(res, column_names)          # Query in DataFrame brengen\n",
    "    \n",
    "    return df"
   ]
  },
  {
   "cell_type": "markdown",
   "metadata": {},
   "source": [
    "### 4.5 Query 05\n",
    "\n",
    "**Beschrijving**\n",
    "\n",
    "Het resultaat van deze functie is een Pandas dataframe dat de naam van de teams bevat die na 1980 minstens 1 manager hebben gehad die speler-manager was. \n",
    "\n",
    "De tabel moet oplopend gesorteerd worden op teamnaam. De tabel mag geen dubbels bevatten."
   ]
  },
  {
   "cell_type": "code",
   "execution_count": null,
   "metadata": {
    "collapsed": true
   },
   "outputs": [],
   "source": [
    "def query_05(connection, column_names):\n",
    "    # Bouw je query\n",
    "    query=\"\"\"\n",
    "    MAAK QUERY HIER\n",
    "    \"\"\"\n",
    "    \n",
    "    # Stap 2 & 3\n",
    "    res = run_query(connection, query)         # Query uitvoeren\n",
    "    df = res_to_df(res, column_names)          # Query in DataFrame brengen\n",
    "    \n",
    "    return df"
   ]
  },
  {
   "cell_type": "markdown",
   "metadata": {},
   "source": [
    "### 4.6 Query 06\n",
    "\n",
    "**Beschrijving**\n",
    "\n",
    "Het resultaat van deze functie is een Pandas dataframe dat bestaat uit de teamnaam, rang, jaar, aantal wins en losses van de teams waarvan dat jaar alle spelers die bij dat team speelden, meer verdienden bij dat team dan *`salaris`*.\n",
    "\n",
    "Sorteer de gegevens volgens oplopend aantal wins."
   ]
  },
  {
   "cell_type": "code",
   "execution_count": null,
   "metadata": {
    "collapsed": true
   },
   "outputs": [],
   "source": [
    "def query_06(connection, column_names, salaris=20000):\n",
    "    # Bouw je query\n",
    "    query=\"\"\"\n",
    "    MAAK QUERY HIER\n",
    "    \"\"\"\n",
    "    \n",
    "    # Stap 2 & 3\n",
    "    res = run_query(connection, query)         # Query uitvoeren\n",
    "    df = res_to_df(res, column_names)          # Query in DataFrame brengen\n",
    "    \n",
    "    return df"
   ]
  },
  {
   "cell_type": "markdown",
   "metadata": {},
   "source": [
    "### 4.7 Query 07\n",
    "\n",
    "**Beschrijving**\n",
    "\n",
    "Het resultaat van deze functie is een Pandas dataframe dat de achternaam en voornaam bevat van alle managers die tijdens hun carriere alle awards hebben gewonnen.\n",
    "\n",
    "Sorteer oplopend alfabetisch op achternaam."
   ]
  },
  {
   "cell_type": "code",
   "execution_count": null,
   "metadata": {
    "collapsed": true
   },
   "outputs": [],
   "source": [
    "def query_07(connection, column_names):\n",
    "    # Bouw je query\n",
    "    query=\"\"\"\n",
    "    MAAK QUERY HIER\n",
    "    \"\"\"\n",
    "    \n",
    "    # Stap 2 & 3\n",
    "    res = run_query(connection, query)         # Query uitvoeren\n",
    "    df = res_to_df(res, column_names)          # Query in DataFrame brengen\n",
    "    \n",
    "    return df"
   ]
  },
  {
   "cell_type": "markdown",
   "metadata": {},
   "source": [
    "### 4.8 Query 08\n",
    "\n",
    "**Beschrijving**\n",
    "\n",
    "Het resultaat van deze functie is een Pandas DataFrame dat voor een gegeven jaar een aantal statistieken van alle staten bevat waarbij de gemiddelde lengte van alle spelers geboren in die staat en opgenomen in de hall of fame na *`jaar`* groter is dan *`lengte`*. \n",
    "\n",
    "Voor die staten moet de tabel de volgende statistieken bevatten: het gemiddelde gewicht, de gemiddelde lengte, het gemiddeld aantal batting homeruns, en het gemiddeld aantal pitching saves van alle spelers (geboren in die staat) die in de hall of fame zijn opgenomen na *`jaar`*.\n",
    "\n",
    "Sorteer oplopend alfabetisch op staat.\n",
    "\n",
    "Nb. Lengte is uitgedrukt in inches."
   ]
  },
  {
   "cell_type": "code",
   "execution_count": null,
   "metadata": {
    "collapsed": true
   },
   "outputs": [],
   "source": [
    "def query_08(connection, column_names, jaar=1990, lengte=75):\n",
    "    # Bouw je query\n",
    "    query=\"\"\"\n",
    "    MAAK QUERY HIER\n",
    "    \"\"\"\n",
    "    \n",
    "    # Stap 2 & 3\n",
    "    res = run_query(connection, query)         # Query uitvoeren\n",
    "    df = res_to_df(res, column_names)          # Query in DataFrame brengen\n",
    "    \n",
    "    return df"
   ]
  },
  {
   "cell_type": "markdown",
   "metadata": {},
   "source": [
    "### 4.9 Query 09\n",
    "\n",
    "**Beschrijving**\n",
    "\n",
    "Het resultaat van deze functie geeft een Pandas dataframe terug dat bestaat uit het jaar, de naam en het aantal homeruns uit de Teams tabel van het team met het 2e meeste aantal homeruns in *`jaar`*."
   ]
  },
  {
   "cell_type": "code",
   "execution_count": null,
   "metadata": {
    "collapsed": true
   },
   "outputs": [],
   "source": [
    "def query_09(connection, column_names, jaar=1975):\n",
    "    # Bouw je query\n",
    "    query=\"\"\"\n",
    "    MAAK QUERY HIER\n",
    "    \"\"\"\n",
    "    \n",
    "    # Stap 2 & 3\n",
    "    res = run_query(connection, query)         # Query uitvoeren\n",
    "    df = res_to_df(res, column_names)          # Query in DataFrame brengen\n",
    "    \n",
    "    return df"
   ]
  },
  {
   "cell_type": "markdown",
   "metadata": {},
   "source": [
    "### 4.10 Query 10\n",
    "\n",
    "**Beschrijving**\n",
    "\n",
    "Het resultaat van deze functie is een Pandas DataFrame dat voor een gegeven *`jaar`*; teamnaam, rang, en aantal gespeelde games van de teams weergeeft die in dat *`jaar`* ten minste 1 speler hebben die datzelfde *`jaar`* exact 1 trofee won.\n",
    "\n",
    "Sorteer op teamnaam en rang."
   ]
  },
  {
   "cell_type": "code",
   "execution_count": 10,
   "metadata": {},
   "outputs": [],
   "source": [
    "def query_10(connection, column_names, jaar=1990):\n",
    "    # Bouw je query\n",
    "    query=\"\"\"\n",
    "    MAAK QUERY HIER\n",
    "    \"\"\"\n",
    "    \n",
    "    # Stap 2 & 3\n",
    "    res = run_query(connection, query)         # Query uitvoeren\n",
    "    df = res_to_df(res, column_names)          # Query in DataFrame brengen\n",
    "    \n",
    "    return df"
   ]
  },
  {
   "cell_type": "markdown",
   "metadata": {},
   "source": [
    "## 5. Hoe en wat in te dienen?"
   ]
  },
  {
   "cell_type": "markdown",
   "metadata": {},
   "source": [
    "Nu je alle queries ingevuld en getest hebt, ben je klaar om je taak in te dienen.\n",
    "\n",
    "- Maak een leeg bestand aan, en geef het de bestandsnaam met formaat: `dd_X_groep_YY.py`.\n",
    "    - `dd` verwijst naar de dag van je oefenzitting, e.g. `wo` voor woensdag\n",
    "    - `X`  is een integer die verwijst naar de volgnummer van je oefenzitting op die dag, e.g. `1`\n",
    "    - `YY` zijn twee integers die verwijzen naar de volgnummer van je groepje, e.g.: `03`\n",
    "    -  Een goede bestandsnaam is dus bijvoorbeeld: `wo_1_groep_03.py`\n",
    "\n",
    "\n",
    "- Kopieer alle **INGEVULDE FUNCTIES EN NIETS ANDERS** naar dit script. Het script bevat dus enkel en alleen de methodes:\n",
    "    - query_01(connection, column_names)\n",
    "    - query_02(connection, column_names, datum = '1980-01-16')\n",
    "    - etc, etc\n",
    "\n",
    "\n",
    "- Voor de eerste 3 queries kan je dan je oplossing al eens testen via de verification notebook!\n",
    "    - Eerst wordt je script automatisch gerund met verschillende parameters\n",
    "    - De (eventuele) resultaten worden opgeslagen in csv files (in de `out` folder)\n",
    "    - Die csv files worden vergeleken met de csv files van de oplossing (te vinden in de `solution` folder).\n",
    "    - Elke query krijgt een score toegekend. Cf. https://en.wikipedia.org/wiki/F1_score.  \n",
    "    - Een kort rapport wordt weergegeven die je pointers kan geven over wat er mis is met je query. \n",
    "        - TP: True Positives\n",
    "        - TN: True Negatives\n",
    "        - FP: False Positives\n",
    "        \n",
    "\n",
    "- Als je oplossing definitief is, submit je je `dd_X_groep_YY.py` via Toledo."
   ]
  }
 ],
 "metadata": {
  "kernelspec": {
   "display_name": "Python 3",
   "language": "python",
   "name": "python3"
  },
  "language_info": {
   "codemirror_mode": {
    "name": "ipython",
    "version": 3
   },
   "file_extension": ".py",
   "mimetype": "text/x-python",
   "name": "python",
   "nbconvert_exporter": "python",
   "pygments_lexer": "ipython3",
   "version": "3.6.4"
  },
  "toc": {
   "nav_menu": {},
   "number_sections": true,
   "sideBar": true,
   "skip_h1_title": true,
   "toc_cell": false,
   "toc_position": {
    "height": "887px",
    "left": "0px",
    "right": "1623px",
    "top": "107px",
    "width": "297px"
   },
   "toc_section_display": true,
   "toc_window_display": true
  }
 },
 "nbformat": 4,
 "nbformat_minor": 2
}
