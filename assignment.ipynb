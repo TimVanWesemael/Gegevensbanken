{
 "cells": [
  {
   "cell_type": "markdown",
   "metadata": {},
   "source": [
    "# PROJECT GEGEVENSBANKEN 2018 - DEEL 3: QUERIES"
   ]
  },
  {
   "cell_type": "markdown",
   "metadata": {
    "heading_collapsed": true
   },
   "source": [
    "## 1. Inleiding\n",
    "\n",
    "Cf. het document `prerequisites.pdf` in de `docs` folder. "
   ]
  },
  {
   "cell_type": "markdown",
   "metadata": {
    "hidden": true
   },
   "source": [
    "### 1.1 Software"
   ]
  },
  {
   "cell_type": "markdown",
   "metadata": {
    "hidden": true
   },
   "source": [
    "In eerste instantie moeten de correcte packages geladen worden. We raden **sterk** aan om je ook tot deze packages te beperken, gezien wij de ingevulde methodes zullen runnen op onze eigen machines. \n",
    "\n",
    "Zelfde opmerking voor de gebruikte python versie, wij veronderstellen 3.6."
   ]
  },
  {
   "cell_type": "code",
   "execution_count": 4,
   "metadata": {
    "hidden": true
   },
   "outputs": [],
   "source": [
    "# Benodigde packages\n",
    "\n",
    "import json            # Package om .json files in te laden (bvb kolomnamen zijn zo opgeslagen)\n",
    "import getpass         # Package om een paswoordveldje te genereren.\n",
    "import mysql.connector # MySQL package\n",
    "import numpy as np\n",
    "import os\n",
    "import pandas as pd    # Populaire package voor data-verwerking\n",
    "import sys"
   ]
  },
  {
   "cell_type": "code",
   "execution_count": 5,
   "metadata": {
    "hidden": true
   },
   "outputs": [
    {
     "data": {
      "text/plain": [
       "sys.version_info(major=3, minor=6, micro=4, releaselevel='final', serial=0)"
      ]
     },
     "execution_count": 5,
     "metadata": {},
     "output_type": "execute_result"
    }
   ],
   "source": [
    "sys.version_info       # Check python versie, wij veronderstellen 3.6"
   ]
  },
  {
   "cell_type": "markdown",
   "metadata": {
    "hidden": true
   },
   "source": [
    "### 1.2 Interageren met een gegevensbank"
   ]
  },
  {
   "cell_type": "markdown",
   "metadata": {
    "hidden": true
   },
   "source": [
    "In deze sectie geven we al drie methodes mee om jullie leven al wat makkelijker te maken\n",
    "\n",
    "- `verbind met GB`\n",
    "    - Dit is functie die toelaat om gemakkelijk verbinding te maken met een database. De `username`, `hostname` en `gegevensbanknaam` worden als argumenten meegegeven met de functie. Deze functie geeft een `connection` object als output. Zo'n object is wat de `connect()` methode van het `mysql.connector` package teruggeeft. Dit is conform de python DB-API (cf. https://www.python.org/dev/peps/pep-0249/), een soort standaard waaraan python DB packages voldoen. \n",
    "    \n",
    "    Moest deze functie niet correct functioneren op je eigen besturingssysteem: voel je vrij om een variant te schrijven. Bij de correctie gebruiken wij onze eigen implementatie om een mysql `connection` object te maken. Deze functie is dus enkel voor jezelf van belang.\n",
    "    \n",
    "\n",
    "- `run_query`  \n",
    "    - Deze functie runt een gegeven `query` op een gegeven `connectie`, en geeft het resultaat terug.\n",
    "    \n",
    "    \n",
    "- `res_to_df`\n",
    "    - Deze functie giet het resultaat van een query (`query_result`) in een pandas dataframe, met vooraf gespecifieerde kolomnamen (`column_names`)."
   ]
  },
  {
   "cell_type": "code",
   "execution_count": 6,
   "metadata": {
    "code_folding": [
     0
    ],
    "hidden": true
   },
   "outputs": [],
   "source": [
    "def verbind_met_GB(username, hostname, gegevensbanknaam):\n",
    "    \"\"\"\n",
    "    Maak verbinding met een externe gegevensbank\n",
    "    \n",
    "    :param  username:          username van de gebruiker, string\n",
    "    :param  hostname:          naam van de host, string.\n",
    "                               Dit is in het geval van een lokale server gewoon 'localhost'\n",
    "    :param  gegevensbanknaam:  naam van de gegevensbank, string.\n",
    "    :return connection:        connection object, dit is wat teruggeven wordt \n",
    "                               door connect() methods van packages die voldoen aan de DB-API\n",
    "    \"\"\"\n",
    "    \n",
    "    password = getpass.getpass() # Genereer vakje voor wachtwoord in te geven\n",
    "    \n",
    "    connection = mysql.connector.connect(host=hostname,\n",
    "                                         user=username,\n",
    "                                         passwd=password,\n",
    "                                         db=gegevensbanknaam)\n",
    "    return connection\n",
    "\n",
    "\n",
    "def run_query(connection, query):\n",
    "    \"\"\"\n",
    "    Voer een query uit op een reeds gemaakte connectie, geeft het resultaat van de query terug\n",
    "    \"\"\"\n",
    "    \n",
    "    # Making a cursor and executing the query\n",
    "    cursor = connection.cursor()\n",
    "    cursor.execute(query)\n",
    "    \n",
    "    # Collecting the result and casting it in a pd.DataFrame\n",
    "    res = cursor.fetchall()\n",
    "    \n",
    "    return res\n",
    "\n",
    "\n",
    "def res_to_df(query_result, column_names):\n",
    "    \"\"\"\n",
    "    Giet het resultaat van een uitgevoerde query in een 'pandas dataframe'\n",
    "    met vooraf gespecifieerde kolomnamen.\n",
    "    \n",
    "    Let op: Het resultaat van de query moet dus exact evenveel kolommen bevatten\n",
    "    als kolomnamen die je meegeeft. Als dit niet het geval is, is dit een indicatie\n",
    "    dat je oplossing fout is. (Gezien wij de kolomnamen van de oplossing al cadeau doen)\n",
    "    \n",
    "    \"\"\"\n",
    "    df = pd.DataFrame(query_result, columns=column_names)\n",
    "    return df"
   ]
  },
  {
   "cell_type": "markdown",
   "metadata": {
    "hidden": true
   },
   "source": [
    "### 1.3 Kolomnamen en input parameters"
   ]
  },
  {
   "cell_type": "markdown",
   "metadata": {
    "hidden": true
   },
   "source": [
    "We leggen op voorhand reeds de **kolomnamen van de oplossingen**, en de **naam en types van de inputparameters** vast. Hier moet je je dus aan houden en mag je dus niks aan wijzigen.\n",
    "\n",
    "- Het aantal kolommen (en hun volgorde) van jullie oplossing en de onze moeten exact overeen komen, vandaar dat de kolomnamen hieronder gegeven zijn. Dit komt trouwens van pas bij het opstellen van je queries! \n",
    "    \n",
    "    \n",
    "- Dankzij de voorbeeldparameters, die al gegeven zijn in de functiedefinitie e.g., \n",
    "        query_42(connection, col_names, super_voorbeeldparam = 101)\n",
    "  weten jullie exact welke vorm en type (integer, lijst, etc) de inputparameters zullen hebben. Wijzig zeker niets aan de naam van die parameters (i.e.,*super_voorbeeldparam* blijft *super_voorbeeldparam*). De default waarden die we ingevuld hebben zijn ter illustratie, zorg ervoor dat je query ook met andere waarden dan de defaults werkt!\n",
    "\n",
    "**Oplossingen die deze vorm niet respecteren, zullen crashen op onze machines en resulteren in een score van 0 op die query.**"
   ]
  },
  {
   "cell_type": "code",
   "execution_count": 7,
   "metadata": {
    "hidden": true
   },
   "outputs": [
    {
     "data": {
      "text/plain": [
       "{'query_01': ['tname', 'year', 'HomeRun'],\n",
       " 'query_02': ['nameFirst', 'nameLast', 'birthYear', 'birthMonth', 'birthDay'],\n",
       " 'query_03': ['nameFirst', 'nameLast', 'tname'],\n",
       " 'query_04': ['tname', 'rank', 'W', 'L', 'nameFirst', 'nameLast'],\n",
       " 'query_05': ['tname'],\n",
       " 'query_06': ['tname', 'yearID', 'rank', 'W', 'L'],\n",
       " 'query_07': ['nameLast', 'nameFirst'],\n",
       " 'query_08': ['birthState',\n",
       "  'avg_weight',\n",
       "  'avg_height',\n",
       "  'avg_HomeRun',\n",
       "  'avg_Saves'],\n",
       " 'query_09': ['yearID', 'tname', 'HomeRun'],\n",
       " 'query_10': ['yearID', 'tname', 'rank', 'Games']}"
      ]
     },
     "execution_count": 7,
     "metadata": {},
     "output_type": "execute_result"
    }
   ],
   "source": [
    "# Dictionary van kolomnamen inladen\n",
    "\n",
    "filename = os.path.join(os.getcwd(), 'solution', 'all_q_colnam.json')\n",
    "col_names = json.load(open(filename, 'r'))    \n",
    "\n",
    "col_names # Inspecteer dictionary"
   ]
  },
  {
   "cell_type": "markdown",
   "metadata": {
    "heading_collapsed": true
   },
   "source": [
    "## 2. Hoe deze notebook in te vullen"
   ]
  },
  {
   "cell_type": "markdown",
   "metadata": {
    "hidden": true
   },
   "source": [
    "Hieronder volgen 10 onvolledige methodes/functies (e.g., `query_42(c, col_names, super_voorbeeldparam = ['joske', 'jef'])`). Aan jullie om ze aan te vullen zodat:\n",
    "    1. Een correcte query gegenereerd wordt\n",
    "    2. De query uitgevoerd wordt\n",
    "    3. Het resultaat wordt teruggegeven in een Pandas DataFrame\n",
    "\n",
    "Voor stap 2 en 3 zijn de nodige methodes al voorhanden, i.e.: `run_query(connection, query)` en `res_to_df(res, column_names)`. Jullie werk zal dus vooral bestaan uit stap 1, queries genereren.\n",
    "  \n",
    "    \n",
    "    \n",
    "Elke functie heeft minstens 2 inputargumenten:\n",
    "    1. `connection`:   Een connection object \n",
    "    2. `column_names`: De kolomnamen van het Pandas DataFrame\n",
    "    \n",
    "Gevolgd door eventuele extra argumenten (e.g., `super_voorbeeldparam = ['joske','jef']`) van de inputparameters. \n",
    "\n",
    "**Nogmaals: verander niets aan de namen van de methodes, namen van de parameters en de kolomnamen van de resulterende DataFrames. Wijzigingen hieraan leiden onvermijdelijk tot een score van 0 op die query.**\n",
    "\n",
    "Je kan naar believen extra cellen toevoegen om je queries te testen, resultaten te inspecteren etc. We vragen jullie om de finale, ingevulde methodes te kopiëren naar een extern script dat enkel en alleen deze oplossingen bevat. Cf. de laatste sectie voor instructies omtrent het effectieve indienen."
   ]
  },
  {
   "cell_type": "markdown",
   "metadata": {},
   "source": [
    "## 3. Voorbeeld"
   ]
  },
  {
   "cell_type": "markdown",
   "metadata": {},
   "source": [
    "Om jullie al wat op weg te zetten volgt hier een voorbeeldje over hoe je te werk kan gaan."
   ]
  },
  {
   "cell_type": "markdown",
   "metadata": {},
   "source": [
    "### 3.1 Query EXAMPLE\n",
    "\n",
    "**Beschrijving**\n",
    "\n",
    "Het resultaat van deze functie is een Pandas DataFrame met teamnaam, jaar en aantal homeruns van teams die meer dan een gegeven aantal *`homeruns`* hadden in dat jaar."
   ]
  },
  {
   "cell_type": "code",
   "execution_count": 10,
   "metadata": {},
   "outputs": [],
   "source": [
    "def query_EX(connection, column_names, homeruns=20):\n",
    "    # Bouw je query\n",
    "    query=\"\"\"\n",
    "    select t.name, t.yearID, t.HR\n",
    "    from Teams as t\n",
    "    where t.HR > {};\n",
    "    \"\"\".format(homeruns) # TIP: Zo krijg je parameters in de string (samen met `{}` in de string)\n",
    "    \n",
    "    # Stap 2 & 3\n",
    "    res = run_query(connection, query)         # Query uitvoeren\n",
    "    df = res_to_df(res, column_names)          # Query in DataFrame brengen\n",
    "    \n",
    "    return df"
   ]
  },
  {
   "cell_type": "markdown",
   "metadata": {},
   "source": [
    "Eerst maken we een verbindingsobject met de databank"
   ]
  },
  {
   "cell_type": "code",
   "execution_count": 11,
   "metadata": {},
   "outputs": [
    {
     "name": "stdout",
     "output_type": "stream",
     "text": [
      "········\n"
     ]
    }
   ],
   "source": [
    "username = 'root'      # Vervang dit als je via een andere user queries stuurt\n",
    "hostname = 'localhost' # Als je een databank lokaal draait, is dit localhost.\n",
    "db = 'lahman2016'      # Naam van de gegevensbank op je XAMPP Mysql server\n",
    "\n",
    "# We verbinden met de gegevensbank\n",
    "c = verbind_met_GB(username, hostname, db)"
   ]
  },
  {
   "cell_type": "markdown",
   "metadata": {},
   "source": [
    "Vervolgens runnen we onze query, en inspecteren we het resultaat."
   ]
  },
  {
   "cell_type": "code",
   "execution_count": 30,
   "metadata": {},
   "outputs": [
    {
     "data": {
      "text/html": [
       "<div>\n",
       "<style scoped>\n",
       "    .dataframe tbody tr th:only-of-type {\n",
       "        vertical-align: middle;\n",
       "    }\n",
       "\n",
       "    .dataframe tbody tr th {\n",
       "        vertical-align: top;\n",
       "    }\n",
       "\n",
       "    .dataframe thead th {\n",
       "        text-align: right;\n",
       "    }\n",
       "</style>\n",
       "<table border=\"1\" class=\"dataframe\">\n",
       "  <thead>\n",
       "    <tr style=\"text-align: right;\">\n",
       "      <th></th>\n",
       "      <th>tname</th>\n",
       "      <th>year</th>\n",
       "      <th>HomeRun</th>\n",
       "    </tr>\n",
       "  </thead>\n",
       "  <tbody>\n",
       "    <tr>\n",
       "      <th>0</th>\n",
       "      <td>Baltimore Canaries</td>\n",
       "      <td>1872</td>\n",
       "      <td>14</td>\n",
       "    </tr>\n",
       "    <tr>\n",
       "      <th>1</th>\n",
       "      <td>Baltimore Canaries</td>\n",
       "      <td>1873</td>\n",
       "      <td>12</td>\n",
       "    </tr>\n",
       "    <tr>\n",
       "      <th>2</th>\n",
       "      <td>Boston Red Stockings</td>\n",
       "      <td>1873</td>\n",
       "      <td>13</td>\n",
       "    </tr>\n",
       "    <tr>\n",
       "      <th>3</th>\n",
       "      <td>Boston Red Stockings</td>\n",
       "      <td>1874</td>\n",
       "      <td>18</td>\n",
       "    </tr>\n",
       "    <tr>\n",
       "      <th>4</th>\n",
       "      <td>Boston Red Stockings</td>\n",
       "      <td>1875</td>\n",
       "      <td>14</td>\n",
       "    </tr>\n",
       "    <tr>\n",
       "      <th>5</th>\n",
       "      <td>Boston Red Caps</td>\n",
       "      <td>1879</td>\n",
       "      <td>20</td>\n",
       "    </tr>\n",
       "    <tr>\n",
       "      <th>6</th>\n",
       "      <td>Providence Grays</td>\n",
       "      <td>1879</td>\n",
       "      <td>12</td>\n",
       "    </tr>\n",
       "    <tr>\n",
       "      <th>7</th>\n",
       "      <td>Boston Red Caps</td>\n",
       "      <td>1880</td>\n",
       "      <td>20</td>\n",
       "    </tr>\n",
       "    <tr>\n",
       "      <th>8</th>\n",
       "      <td>Buffalo Bisons</td>\n",
       "      <td>1881</td>\n",
       "      <td>12</td>\n",
       "    </tr>\n",
       "    <tr>\n",
       "      <th>9</th>\n",
       "      <td>Chicago White Stockings</td>\n",
       "      <td>1881</td>\n",
       "      <td>12</td>\n",
       "    </tr>\n",
       "    <tr>\n",
       "      <th>10</th>\n",
       "      <td>Detroit Wolverines</td>\n",
       "      <td>1881</td>\n",
       "      <td>17</td>\n",
       "    </tr>\n",
       "    <tr>\n",
       "      <th>11</th>\n",
       "      <td>Providence Grays</td>\n",
       "      <td>1881</td>\n",
       "      <td>11</td>\n",
       "    </tr>\n",
       "    <tr>\n",
       "      <th>12</th>\n",
       "      <td>Buffalo Bisons</td>\n",
       "      <td>1882</td>\n",
       "      <td>18</td>\n",
       "    </tr>\n",
       "    <tr>\n",
       "      <th>13</th>\n",
       "      <td>Boston Red Caps</td>\n",
       "      <td>1882</td>\n",
       "      <td>15</td>\n",
       "    </tr>\n",
       "    <tr>\n",
       "      <th>14</th>\n",
       "      <td>Chicago White Stockings</td>\n",
       "      <td>1882</td>\n",
       "      <td>15</td>\n",
       "    </tr>\n",
       "    <tr>\n",
       "      <th>15</th>\n",
       "      <td>Cleveland Blues</td>\n",
       "      <td>1882</td>\n",
       "      <td>20</td>\n",
       "    </tr>\n",
       "    <tr>\n",
       "      <th>16</th>\n",
       "      <td>Detroit Wolverines</td>\n",
       "      <td>1882</td>\n",
       "      <td>19</td>\n",
       "    </tr>\n",
       "    <tr>\n",
       "      <th>17</th>\n",
       "      <td>Providence Grays</td>\n",
       "      <td>1882</td>\n",
       "      <td>11</td>\n",
       "    </tr>\n",
       "    <tr>\n",
       "      <th>18</th>\n",
       "      <td>Pittsburg Alleghenys</td>\n",
       "      <td>1882</td>\n",
       "      <td>18</td>\n",
       "    </tr>\n",
       "    <tr>\n",
       "      <th>19</th>\n",
       "      <td>St. Louis Brown Stockings</td>\n",
       "      <td>1882</td>\n",
       "      <td>11</td>\n",
       "    </tr>\n",
       "    <tr>\n",
       "      <th>20</th>\n",
       "      <td>Troy Trojans</td>\n",
       "      <td>1882</td>\n",
       "      <td>12</td>\n",
       "    </tr>\n",
       "    <tr>\n",
       "      <th>21</th>\n",
       "      <td>Worcester Ruby Legs</td>\n",
       "      <td>1882</td>\n",
       "      <td>16</td>\n",
       "    </tr>\n",
       "    <tr>\n",
       "      <th>22</th>\n",
       "      <td>Boston Beaneaters</td>\n",
       "      <td>1883</td>\n",
       "      <td>34</td>\n",
       "    </tr>\n",
       "    <tr>\n",
       "      <th>23</th>\n",
       "      <td>Chicago White Stockings</td>\n",
       "      <td>1883</td>\n",
       "      <td>13</td>\n",
       "    </tr>\n",
       "    <tr>\n",
       "      <th>24</th>\n",
       "      <td>Columbus Buckeyes</td>\n",
       "      <td>1883</td>\n",
       "      <td>15</td>\n",
       "    </tr>\n",
       "    <tr>\n",
       "      <th>25</th>\n",
       "      <td>Cincinnati Red Stockings</td>\n",
       "      <td>1883</td>\n",
       "      <td>34</td>\n",
       "    </tr>\n",
       "    <tr>\n",
       "      <th>26</th>\n",
       "      <td>Detroit Wolverines</td>\n",
       "      <td>1883</td>\n",
       "      <td>13</td>\n",
       "    </tr>\n",
       "    <tr>\n",
       "      <th>27</th>\n",
       "      <td>Louisville Eclipse</td>\n",
       "      <td>1883</td>\n",
       "      <td>14</td>\n",
       "    </tr>\n",
       "    <tr>\n",
       "      <th>28</th>\n",
       "      <td>New York Gothams</td>\n",
       "      <td>1883</td>\n",
       "      <td>24</td>\n",
       "    </tr>\n",
       "    <tr>\n",
       "      <th>29</th>\n",
       "      <td>Philadelphia Athletics</td>\n",
       "      <td>1883</td>\n",
       "      <td>20</td>\n",
       "    </tr>\n",
       "    <tr>\n",
       "      <th>...</th>\n",
       "      <td>...</td>\n",
       "      <td>...</td>\n",
       "      <td>...</td>\n",
       "    </tr>\n",
       "    <tr>\n",
       "      <th>2664</th>\n",
       "      <td>Arizona Diamondbacks</td>\n",
       "      <td>2016</td>\n",
       "      <td>190</td>\n",
       "    </tr>\n",
       "    <tr>\n",
       "      <th>2665</th>\n",
       "      <td>Atlanta Braves</td>\n",
       "      <td>2016</td>\n",
       "      <td>122</td>\n",
       "    </tr>\n",
       "    <tr>\n",
       "      <th>2666</th>\n",
       "      <td>Baltimore Orioles</td>\n",
       "      <td>2016</td>\n",
       "      <td>253</td>\n",
       "    </tr>\n",
       "    <tr>\n",
       "      <th>2667</th>\n",
       "      <td>Boston Red Sox</td>\n",
       "      <td>2016</td>\n",
       "      <td>208</td>\n",
       "    </tr>\n",
       "    <tr>\n",
       "      <th>2668</th>\n",
       "      <td>Chicago White Sox</td>\n",
       "      <td>2016</td>\n",
       "      <td>168</td>\n",
       "    </tr>\n",
       "    <tr>\n",
       "      <th>2669</th>\n",
       "      <td>Chicago Cubs</td>\n",
       "      <td>2016</td>\n",
       "      <td>199</td>\n",
       "    </tr>\n",
       "    <tr>\n",
       "      <th>2670</th>\n",
       "      <td>Cincinnati Reds</td>\n",
       "      <td>2016</td>\n",
       "      <td>164</td>\n",
       "    </tr>\n",
       "    <tr>\n",
       "      <th>2671</th>\n",
       "      <td>Cleveland Indians</td>\n",
       "      <td>2016</td>\n",
       "      <td>185</td>\n",
       "    </tr>\n",
       "    <tr>\n",
       "      <th>2672</th>\n",
       "      <td>Colorado Rockies</td>\n",
       "      <td>2016</td>\n",
       "      <td>204</td>\n",
       "    </tr>\n",
       "    <tr>\n",
       "      <th>2673</th>\n",
       "      <td>Detroit Tigers</td>\n",
       "      <td>2016</td>\n",
       "      <td>211</td>\n",
       "    </tr>\n",
       "    <tr>\n",
       "      <th>2674</th>\n",
       "      <td>Houston Astros</td>\n",
       "      <td>2016</td>\n",
       "      <td>198</td>\n",
       "    </tr>\n",
       "    <tr>\n",
       "      <th>2675</th>\n",
       "      <td>Kansas City Royals</td>\n",
       "      <td>2016</td>\n",
       "      <td>147</td>\n",
       "    </tr>\n",
       "    <tr>\n",
       "      <th>2676</th>\n",
       "      <td>Los Angeles Angels of Anaheim</td>\n",
       "      <td>2016</td>\n",
       "      <td>156</td>\n",
       "    </tr>\n",
       "    <tr>\n",
       "      <th>2677</th>\n",
       "      <td>Los Angeles Dodgers</td>\n",
       "      <td>2016</td>\n",
       "      <td>189</td>\n",
       "    </tr>\n",
       "    <tr>\n",
       "      <th>2678</th>\n",
       "      <td>Miami Marlins</td>\n",
       "      <td>2016</td>\n",
       "      <td>128</td>\n",
       "    </tr>\n",
       "    <tr>\n",
       "      <th>2679</th>\n",
       "      <td>Milwaukee Brewers</td>\n",
       "      <td>2016</td>\n",
       "      <td>194</td>\n",
       "    </tr>\n",
       "    <tr>\n",
       "      <th>2680</th>\n",
       "      <td>Minnesota Twins</td>\n",
       "      <td>2016</td>\n",
       "      <td>200</td>\n",
       "    </tr>\n",
       "    <tr>\n",
       "      <th>2681</th>\n",
       "      <td>New York Yankees</td>\n",
       "      <td>2016</td>\n",
       "      <td>183</td>\n",
       "    </tr>\n",
       "    <tr>\n",
       "      <th>2682</th>\n",
       "      <td>New York Mets</td>\n",
       "      <td>2016</td>\n",
       "      <td>218</td>\n",
       "    </tr>\n",
       "    <tr>\n",
       "      <th>2683</th>\n",
       "      <td>Oakland Athletics</td>\n",
       "      <td>2016</td>\n",
       "      <td>169</td>\n",
       "    </tr>\n",
       "    <tr>\n",
       "      <th>2684</th>\n",
       "      <td>Philadelphia Phillies</td>\n",
       "      <td>2016</td>\n",
       "      <td>161</td>\n",
       "    </tr>\n",
       "    <tr>\n",
       "      <th>2685</th>\n",
       "      <td>Pittsburgh Pirates</td>\n",
       "      <td>2016</td>\n",
       "      <td>153</td>\n",
       "    </tr>\n",
       "    <tr>\n",
       "      <th>2686</th>\n",
       "      <td>San Diego Padres</td>\n",
       "      <td>2016</td>\n",
       "      <td>177</td>\n",
       "    </tr>\n",
       "    <tr>\n",
       "      <th>2687</th>\n",
       "      <td>Seattle Mariners</td>\n",
       "      <td>2016</td>\n",
       "      <td>223</td>\n",
       "    </tr>\n",
       "    <tr>\n",
       "      <th>2688</th>\n",
       "      <td>San Francisco Giants</td>\n",
       "      <td>2016</td>\n",
       "      <td>130</td>\n",
       "    </tr>\n",
       "    <tr>\n",
       "      <th>2689</th>\n",
       "      <td>St. Louis Cardinals</td>\n",
       "      <td>2016</td>\n",
       "      <td>225</td>\n",
       "    </tr>\n",
       "    <tr>\n",
       "      <th>2690</th>\n",
       "      <td>Tampa Bay Rays</td>\n",
       "      <td>2016</td>\n",
       "      <td>216</td>\n",
       "    </tr>\n",
       "    <tr>\n",
       "      <th>2691</th>\n",
       "      <td>Texas Rangers</td>\n",
       "      <td>2016</td>\n",
       "      <td>215</td>\n",
       "    </tr>\n",
       "    <tr>\n",
       "      <th>2692</th>\n",
       "      <td>Toronto Blue Jays</td>\n",
       "      <td>2016</td>\n",
       "      <td>221</td>\n",
       "    </tr>\n",
       "    <tr>\n",
       "      <th>2693</th>\n",
       "      <td>Washington Nationals</td>\n",
       "      <td>2016</td>\n",
       "      <td>203</td>\n",
       "    </tr>\n",
       "  </tbody>\n",
       "</table>\n",
       "<p>2694 rows × 3 columns</p>\n",
       "</div>"
      ],
      "text/plain": [
       "                              tname  year  HomeRun\n",
       "0                Baltimore Canaries  1872       14\n",
       "1                Baltimore Canaries  1873       12\n",
       "2              Boston Red Stockings  1873       13\n",
       "3              Boston Red Stockings  1874       18\n",
       "4              Boston Red Stockings  1875       14\n",
       "5                   Boston Red Caps  1879       20\n",
       "6                  Providence Grays  1879       12\n",
       "7                   Boston Red Caps  1880       20\n",
       "8                    Buffalo Bisons  1881       12\n",
       "9           Chicago White Stockings  1881       12\n",
       "10               Detroit Wolverines  1881       17\n",
       "11                 Providence Grays  1881       11\n",
       "12                   Buffalo Bisons  1882       18\n",
       "13                  Boston Red Caps  1882       15\n",
       "14          Chicago White Stockings  1882       15\n",
       "15                  Cleveland Blues  1882       20\n",
       "16               Detroit Wolverines  1882       19\n",
       "17                 Providence Grays  1882       11\n",
       "18             Pittsburg Alleghenys  1882       18\n",
       "19        St. Louis Brown Stockings  1882       11\n",
       "20                     Troy Trojans  1882       12\n",
       "21              Worcester Ruby Legs  1882       16\n",
       "22                Boston Beaneaters  1883       34\n",
       "23          Chicago White Stockings  1883       13\n",
       "24                Columbus Buckeyes  1883       15\n",
       "25         Cincinnati Red Stockings  1883       34\n",
       "26               Detroit Wolverines  1883       13\n",
       "27               Louisville Eclipse  1883       14\n",
       "28                 New York Gothams  1883       24\n",
       "29           Philadelphia Athletics  1883       20\n",
       "...                             ...   ...      ...\n",
       "2664           Arizona Diamondbacks  2016      190\n",
       "2665                 Atlanta Braves  2016      122\n",
       "2666              Baltimore Orioles  2016      253\n",
       "2667                 Boston Red Sox  2016      208\n",
       "2668              Chicago White Sox  2016      168\n",
       "2669                   Chicago Cubs  2016      199\n",
       "2670                Cincinnati Reds  2016      164\n",
       "2671              Cleveland Indians  2016      185\n",
       "2672               Colorado Rockies  2016      204\n",
       "2673                 Detroit Tigers  2016      211\n",
       "2674                 Houston Astros  2016      198\n",
       "2675             Kansas City Royals  2016      147\n",
       "2676  Los Angeles Angels of Anaheim  2016      156\n",
       "2677            Los Angeles Dodgers  2016      189\n",
       "2678                  Miami Marlins  2016      128\n",
       "2679              Milwaukee Brewers  2016      194\n",
       "2680                Minnesota Twins  2016      200\n",
       "2681               New York Yankees  2016      183\n",
       "2682                  New York Mets  2016      218\n",
       "2683              Oakland Athletics  2016      169\n",
       "2684          Philadelphia Phillies  2016      161\n",
       "2685             Pittsburgh Pirates  2016      153\n",
       "2686               San Diego Padres  2016      177\n",
       "2687               Seattle Mariners  2016      223\n",
       "2688           San Francisco Giants  2016      130\n",
       "2689            St. Louis Cardinals  2016      225\n",
       "2690                 Tampa Bay Rays  2016      216\n",
       "2691                  Texas Rangers  2016      215\n",
       "2692              Toronto Blue Jays  2016      221\n",
       "2693           Washington Nationals  2016      203\n",
       "\n",
       "[2694 rows x 3 columns]"
      ]
     },
     "execution_count": 30,
     "metadata": {},
     "output_type": "execute_result"
    }
   ],
   "source": [
    "# De voorbeeldquery heeft dezelfde kolomnamen als query 1, dus we gebruiken die\n",
    "kolommen = col_names['query_01'] \n",
    "\n",
    "# Functie uitvoeren, geeft resultaat van de query in een DataFrame\n",
    "df = query_EX(c, col_names['query_01'],10)\n",
    "\n",
    "# We inspecteren de eerste paar resultaten (voor alles te zien: laat .head() weg)\n",
    "df"
   ]
  },
  {
   "cell_type": "markdown",
   "metadata": {},
   "source": [
    "En we runnen onze query nogmaals met een andere waarde voor de parameter `jaar`"
   ]
  },
  {
   "cell_type": "code",
   "execution_count": 25,
   "metadata": {},
   "outputs": [
    {
     "data": {
      "text/html": [
       "<div>\n",
       "<style scoped>\n",
       "    .dataframe tbody tr th:only-of-type {\n",
       "        vertical-align: middle;\n",
       "    }\n",
       "\n",
       "    .dataframe tbody tr th {\n",
       "        vertical-align: top;\n",
       "    }\n",
       "\n",
       "    .dataframe thead th {\n",
       "        text-align: right;\n",
       "    }\n",
       "</style>\n",
       "<table border=\"1\" class=\"dataframe\">\n",
       "  <thead>\n",
       "    <tr style=\"text-align: right;\">\n",
       "      <th></th>\n",
       "      <th>tname</th>\n",
       "      <th>year</th>\n",
       "      <th>HomeRun</th>\n",
       "    </tr>\n",
       "  </thead>\n",
       "  <tbody>\n",
       "    <tr>\n",
       "      <th>0</th>\n",
       "      <td>Baltimore Orioles</td>\n",
       "      <td>1996</td>\n",
       "      <td>257</td>\n",
       "    </tr>\n",
       "    <tr>\n",
       "      <th>1</th>\n",
       "      <td>Seattle Mariners</td>\n",
       "      <td>1997</td>\n",
       "      <td>264</td>\n",
       "    </tr>\n",
       "    <tr>\n",
       "      <th>2</th>\n",
       "      <td>Texas Rangers</td>\n",
       "      <td>2005</td>\n",
       "      <td>260</td>\n",
       "    </tr>\n",
       "    <tr>\n",
       "      <th>3</th>\n",
       "      <td>Toronto Blue Jays</td>\n",
       "      <td>2010</td>\n",
       "      <td>257</td>\n",
       "    </tr>\n",
       "    <tr>\n",
       "      <th>4</th>\n",
       "      <td>Baltimore Orioles</td>\n",
       "      <td>2016</td>\n",
       "      <td>253</td>\n",
       "    </tr>\n",
       "  </tbody>\n",
       "</table>\n",
       "</div>"
      ],
      "text/plain": [
       "               tname  year  HomeRun\n",
       "0  Baltimore Orioles  1996      257\n",
       "1   Seattle Mariners  1997      264\n",
       "2      Texas Rangers  2005      260\n",
       "3  Toronto Blue Jays  2010      257\n",
       "4  Baltimore Orioles  2016      253"
      ]
     },
     "execution_count": 25,
     "metadata": {},
     "output_type": "execute_result"
    }
   ],
   "source": [
    "# Functie uitvoeren, geeft resultaat van de query in een DataFrame\n",
    "df = query_EX(c, col_names['query_01'], homeruns=250)\n",
    "\n",
    "# We inspecteren de eerste paar resultaten (voor alles te zien: laat .head() weg)\n",
    "df"
   ]
  },
  {
   "cell_type": "markdown",
   "metadata": {},
   "source": [
    "## 4. Queries"
   ]
  },
  {
   "cell_type": "markdown",
   "metadata": {},
   "source": [
    "### 4.1 Query 01\n",
    "\n",
    "**Beschrijving**\n",
    "\n",
    "Het resultaat van deze functie is een Pandas dataframe met: de teamnaam, het jaar, en het aantal homeruns per team, en dit voor alle teams, gesorteerd op aantal homeruns van hoog naar laag."
   ]
  },
  {
   "cell_type": "code",
   "execution_count": 27,
   "metadata": {},
   "outputs": [],
   "source": [
    "def query_01(connection, column_names):\n",
    "    # Bouw je query\n",
    "    query=\"\"\"\n",
    "    SELECT t.name, t.yearID, t.HR\n",
    "    FROM Teams as t\n",
    "    ORDER BY t.HR DESC;\n",
    "    \"\"\"\n",
    "    \n",
    "    # Stap 2 & 3\n",
    "    res = run_query(connection, query)         # Query uitvoeren\n",
    "    df = res_to_df(res, column_names)          # Query in DataFrame brengen\n",
    "    \n",
    "    return df"
   ]
  },
  {
   "cell_type": "markdown",
   "metadata": {
    "collapsed": true
   },
   "source": [
    "### 4.2 Query 02\n",
    "\n",
    "**Beschrijving**\n",
    "\n",
    "Het resultaat van deze functie is een Pandas dataframe met: de voornaam, achternaam, geboortejaar, geboortemaand, geboortedag van spelers die hun eerste major league appearance maakten na een gegeven *`datum`*. \n",
    "\n",
    "De tabel is oplopend alfabetisch gesorteerd op achternaam."
   ]
  },
  {
   "cell_type": "code",
   "execution_count": null,
   "metadata": {
    "collapsed": true
   },
   "outputs": [],
   "source": [
    "def query_02(connection, column_names, datum = '1980-01-16'):\n",
    "    # Bouw je query\n",
    "    query=\"\"\"\n",
    "    MAAK QUERY HIER\n",
    "    \"\"\"\n",
    "    \n",
    "    # Stap 2 & 3\n",
    "    res = run_query(connection, query)         # Query uitvoeren\n",
    "    df = res_to_df(res, column_names)          # Query in DataFrame brengen\n",
    "    \n",
    "    return df"
   ]
  },
  {
   "cell_type": "markdown",
   "metadata": {},
   "source": [
    "### 4.3 Query 03\n",
    "\n",
    "**Beschrijving**\n",
    "\n",
    "Het resultaat van deze functie is een Pandas dataframe dat per club: de clubnaam en de voor- en achternaam van alle managers weergeeft, die ooit voor de club gewerkt hebben als niet-playermanager. Per club mag een welbepaalde manager slechts 1 keer in het resultaat voorkomen. \n",
    "\n",
    "Sorteer oplopend alfabetisch op clubnaam."
   ]
  },
  {
   "cell_type": "code",
   "execution_count": null,
   "metadata": {
    "collapsed": true
   },
   "outputs": [],
   "source": [
    "def query_03(connection, column_names):\n",
    "    # Bouw je query\n",
    "    query=\"\"\"\n",
    "    MAAK QUERY HIER\n",
    "    \"\"\"\n",
    "    \n",
    "    # Stap 2 & 3\n",
    "    res = run_query(connection, query)         # Query uitvoeren\n",
    "    df = res_to_df(res, column_names)          # Query in DataFrame brengen\n",
    "    \n",
    "    return df"
   ]
  },
  {
   "cell_type": "markdown",
   "metadata": {},
   "source": [
    "### 4.4 Query 04\n",
    "\n",
    "**Beschrijving**\n",
    "\n",
    "Het resultaat van deze functie is een Pandas dataframe met gegevens van teams (teamnaam, rang, aantal wins en losses) en van managers (voor- en achternaam) zodanig dat\n",
    "1. de desbetreffende manager is opgenomen in de hall of fame na *`datum x`* \n",
    "2. de manager in kwestie was ooit, na *`datum y`*, manager van het team in kwestie\n",
    "\n",
    "De tabel moet gesorteerd zijn op teamnaam en rang (alfabetisch oplopend)."
   ]
  },
  {
   "cell_type": "code",
   "execution_count": null,
   "metadata": {
    "collapsed": true
   },
   "outputs": [],
   "source": [
    "def query_04(connection, column_names, datum_x='1980-01-01', datum_y='1980-01-01'):\n",
    "    # Bouw je query\n",
    "    query=\"\"\"\n",
    "    MAAK QUERY HIER\n",
    "    \"\"\"\n",
    "    \n",
    "    # Stap 2 & 3\n",
    "    res = run_query(connection, query)         # Query uitvoeren\n",
    "    df = res_to_df(res, column_names)          # Query in DataFrame brengen\n",
    "    \n",
    "    return df"
   ]
  },
  {
   "cell_type": "markdown",
   "metadata": {},
   "source": [
    "### 4.5 Query 05\n",
    "\n",
    "**Beschrijving**\n",
    "\n",
    "Het resultaat van deze functie is een Pandas dataframe dat de naam van de teams bevat die na 1980 minstens 1 manager hebben gehad die speler-manager was. \n",
    "\n",
    "De tabel moet oplopend gesorteerd worden op teamnaam. De tabel mag geen dubbels bevatten."
   ]
  },
  {
   "cell_type": "code",
   "execution_count": null,
   "metadata": {
    "collapsed": true
   },
   "outputs": [],
   "source": [
    "def query_05(connection, column_names):\n",
    "    # Bouw je query\n",
    "    query=\"\"\"\n",
    "    MAAK QUERY HIER\n",
    "    \"\"\"\n",
    "    \n",
    "    # Stap 2 & 3\n",
    "    res = run_query(connection, query)         # Query uitvoeren\n",
    "    df = res_to_df(res, column_names)          # Query in DataFrame brengen\n",
    "    \n",
    "    return df"
   ]
  },
  {
   "cell_type": "markdown",
   "metadata": {},
   "source": [
    "### 4.6 Query 06\n",
    "\n",
    "**Beschrijving**\n",
    "\n",
    "Het resultaat van deze functie is een Pandas dataframe dat bestaat uit de teamnaam, rang, jaar, aantal wins en losses van de teams waarvan dat jaar alle spelers die bij dat team speelden, meer verdienden bij dat team dan *`salaris`*.\n",
    "\n",
    "Sorteer de gegevens volgens oplopend aantal wins."
   ]
  },
  {
   "cell_type": "code",
   "execution_count": null,
   "metadata": {
    "collapsed": true
   },
   "outputs": [],
   "source": [
    "def query_06(connection, column_names, salaris=20000):\n",
    "    # Bouw je query\n",
    "    query=\"\"\"\n",
    "    MAAK QUERY HIER\n",
    "    \"\"\"\n",
    "    \n",
    "    # Stap 2 & 3\n",
    "    res = run_query(connection, query)         # Query uitvoeren\n",
    "    df = res_to_df(res, column_names)          # Query in DataFrame brengen\n",
    "    \n",
    "    return df"
   ]
  },
  {
   "cell_type": "markdown",
   "metadata": {},
   "source": [
    "### 4.7 Query 07\n",
    "\n",
    "**Beschrijving**\n",
    "\n",
    "Het resultaat van deze functie is een Pandas dataframe dat de achternaam en voornaam bevat van alle managers die tijdens hun carriere alle awards hebben gewonnen.\n",
    "\n",
    "Sorteer oplopend alfabetisch op achternaam."
   ]
  },
  {
   "cell_type": "code",
   "execution_count": null,
   "metadata": {
    "collapsed": true
   },
   "outputs": [],
   "source": [
    "def query_07(connection, column_names):\n",
    "    # Bouw je query\n",
    "    query=\"\"\"\n",
    "    MAAK QUERY HIER\n",
    "    \"\"\"\n",
    "    \n",
    "    # Stap 2 & 3\n",
    "    res = run_query(connection, query)         # Query uitvoeren\n",
    "    df = res_to_df(res, column_names)          # Query in DataFrame brengen\n",
    "    \n",
    "    return df"
   ]
  },
  {
   "cell_type": "markdown",
   "metadata": {},
   "source": [
    "### 4.8 Query 08\n",
    "\n",
    "**Beschrijving**\n",
    "\n",
    "Het resultaat van deze functie is een Pandas DataFrame dat voor een gegeven jaar een aantal statistieken van alle staten bevat waarbij de gemiddelde lengte van alle spelers geboren in die staat en opgenomen in de hall of fame na *`jaar`* groter is dan *`lengte`*. \n",
    "\n",
    "Voor die staten moet de tabel de volgende statistieken bevatten: het gemiddelde gewicht, de gemiddelde lengte, het gemiddeld aantal batting homeruns, en het gemiddeld aantal pitching saves van alle spelers (geboren in die staat) die in de hall of fame zijn opgenomen na *`jaar`*.\n",
    "\n",
    "Sorteer oplopend alfabetisch op staat.\n",
    "\n",
    "Nb. Lengte is uitgedrukt in inches."
   ]
  },
  {
   "cell_type": "code",
   "execution_count": null,
   "metadata": {
    "collapsed": true
   },
   "outputs": [],
   "source": [
    "def query_08(connection, column_names, jaar=1990, lengte=75):\n",
    "    # Bouw je query\n",
    "    query=\"\"\"\n",
    "    MAAK QUERY HIER\n",
    "    \"\"\"\n",
    "    \n",
    "    # Stap 2 & 3\n",
    "    res = run_query(connection, query)         # Query uitvoeren\n",
    "    df = res_to_df(res, column_names)          # Query in DataFrame brengen\n",
    "    \n",
    "    return df"
   ]
  },
  {
   "cell_type": "markdown",
   "metadata": {},
   "source": [
    "### 4.9 Query 09\n",
    "\n",
    "**Beschrijving**\n",
    "\n",
    "Het resultaat van deze functie geeft een Pandas dataframe terug dat bestaat uit het jaar, de naam en het aantal homeruns uit de Teams tabel van het team met het 2e meeste aantal homeruns in *`jaar`*."
   ]
  },
  {
   "cell_type": "code",
   "execution_count": null,
   "metadata": {
    "collapsed": true
   },
   "outputs": [],
   "source": [
    "def query_09(connection, column_names, jaar=1975):\n",
    "    # Bouw je query\n",
    "    query=\"\"\"\n",
    "    MAAK QUERY HIER\n",
    "    \"\"\"\n",
    "    \n",
    "    # Stap 2 & 3\n",
    "    res = run_query(connection, query)         # Query uitvoeren\n",
    "    df = res_to_df(res, column_names)          # Query in DataFrame brengen\n",
    "    \n",
    "    return df"
   ]
  },
  {
   "cell_type": "markdown",
   "metadata": {},
   "source": [
    "### 4.10 Query 10\n",
    "\n",
    "**Beschrijving**\n",
    "\n",
    "Het resultaat van deze functie is een Pandas DataFrame dat voor een gegeven *`jaar`*; teamnaam, rang, en aantal gespeelde games van de teams weergeeft die in dat *`jaar`* ten minste 1 speler hebben die datzelfde *`jaar`* exact 1 trofee won.\n",
    "\n",
    "Sorteer op teamnaam en rang."
   ]
  },
  {
   "cell_type": "code",
   "execution_count": null,
   "metadata": {
    "collapsed": true
   },
   "outputs": [],
   "source": [
    "def query_10(connection, column_names, jaar=1990):\n",
    "    # Bouw je query\n",
    "    query=\"\"\"\n",
    "    MAAK QUERY HIER\n",
    "    \"\"\"\n",
    "    \n",
    "    # Stap 2 & 3\n",
    "    res = run_query(connection, query)         # Query uitvoeren\n",
    "    df = res_to_df(res, column_names)          # Query in DataFrame brengen\n",
    "    \n",
    "    return df"
   ]
  },
  {
   "cell_type": "markdown",
   "metadata": {},
   "source": [
    "## 5. Hoe en wat in te dienen?"
   ]
  },
  {
   "cell_type": "markdown",
   "metadata": {},
   "source": [
    "Nu je alle queries ingevuld en getest hebt, ben je klaar om je taak in te dienen.\n",
    "\n",
    "- Maak een leeg bestand aan, en geef het de bestandsnaam met formaat: `dd_X_groep_YY.py`.\n",
    "    - `dd` verwijst naar de dag van je oefenzitting, e.g. `wo` voor woensdag\n",
    "    - `X`  is een integer die verwijst naar de volgnummer van je oefenzitting op die dag, e.g. `1`\n",
    "    - `YY` zijn twee integers die verwijzen naar de volgnummer van je groepje, e.g.: `03`\n",
    "    -  Een goede bestandsnaam is dus bijvoorbeeld: `wo_1_groep_03.py`\n",
    "\n",
    "\n",
    "- Kopieer alle **INGEVULDE FUNCTIES EN NIETS ANDERS** naar dit script. Het script bevat dus enkel en alleen de methodes:\n",
    "    - query_01(connection, column_names)\n",
    "    - query_02(connection, column_names, datum = '1980-01-16')\n",
    "    - etc, etc\n",
    "\n",
    "\n",
    "- Voor de eerste 3 queries kan je dan je oplossing al eens testen via de verification notebook!\n",
    "    - Eerst wordt je script automatisch gerund met verschillende parameters\n",
    "    - De (eventuele) resultaten worden opgeslagen in csv files (in de `out` folder)\n",
    "    - Die csv files worden vergeleken met de csv files van de oplossing (te vinden in de `solution` folder).\n",
    "    - Elke query krijgt een score toegekend. Cf. https://en.wikipedia.org/wiki/F1_score.  \n",
    "    - Een kort rapport wordt weergegeven die je pointers kan geven over wat er mis is met je query. \n",
    "        - TP: True Positives\n",
    "        - TN: True Negatives\n",
    "        - FP: False Positives\n",
    "        \n",
    "\n",
    "- Als je oplossing definitief is, submit je je `dd_X_groep_YY.py` via Toledo."
   ]
  }
 ],
 "metadata": {
  "kernelspec": {
   "display_name": "Python 3",
   "language": "python",
   "name": "python3"
  },
  "language_info": {
   "codemirror_mode": {
    "name": "ipython",
    "version": 3
   },
   "file_extension": ".py",
   "mimetype": "text/x-python",
   "name": "python",
   "nbconvert_exporter": "python",
   "pygments_lexer": "ipython3",
   "version": "3.6.4"
  },
  "toc": {
   "nav_menu": {},
   "number_sections": true,
   "sideBar": true,
   "skip_h1_title": true,
   "toc_cell": false,
   "toc_position": {
    "height": "887px",
    "left": "0px",
    "right": "1623px",
    "top": "107px",
    "width": "297px"
   },
   "toc_section_display": true,
   "toc_window_display": true
  }
 },
 "nbformat": 4,
 "nbformat_minor": 2
}
